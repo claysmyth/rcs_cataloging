{
 "cells": [
  {
   "cell_type": "code",
   "execution_count": 1,
   "metadata": {},
   "outputs": [],
   "source": [
    "%load_ext autoreload\n",
    "%autoreload 2"
   ]
  },
  {
   "cell_type": "code",
   "execution_count": 2,
   "metadata": {},
   "outputs": [],
   "source": [
    "import polars as pl\n",
    "import json\n",
    "from polars import selectors as cs\n",
    "from utils import *\n",
    "\n",
    "\n",
    "import rcs_cataloging as rcc # --> probably need to build first"
   ]
  },
  {
   "cell_type": "markdown",
   "metadata": {},
   "source": [
    "### TODO: Implement version of DerivedTime (assignTime.m) here"
   ]
  },
  {
   "cell_type": "code",
   "execution_count": 3,
   "metadata": {},
   "outputs": [],
   "source": [
    "json_file = '/Users/claysmyth/Desktop/Starr/RCS_Hypno_Data/RCS02/RCS02R/8_18_21/Session1629269941495/DeviceNPC700404H/RawDataTD.json'"
   ]
  },
  {
   "cell_type": "code",
   "execution_count": 4,
   "metadata": {},
   "outputs": [],
   "source": [
    "with open(json_file, 'r') as file:\n",
    "    data = json.load(file)"
   ]
  },
  {
   "cell_type": "code",
   "execution_count": 5,
   "metadata": {},
   "outputs": [],
   "source": [
    "td_data = data[0]['TimeDomainData']"
   ]
  },
  {
   "cell_type": "code",
   "execution_count": 6,
   "metadata": {},
   "outputs": [],
   "source": [
    "df = rcc.loop_and_table_td_data(td_data)"
   ]
  },
  {
   "cell_type": "code",
   "execution_count": 7,
   "metadata": {},
   "outputs": [],
   "source": [
    "df = df.with_columns(\n",
    "    [\n",
    "        pl.col('localTime').str.to_datetime(\"%Y-%m-%d %H:%M:%S%.3f\"),\n",
    "        # Chunk interval is how much time each chunk of data represents (overshot by 1 sample because of indexing, corrected by \"closed='left'\" call below)\n",
    "        # (pl.col('sample_rate').replace({0: 4, 1: 2, 2: 1}) * pl.col('channel_0').list.len()).alias('chunk_interval'),\n",
    "        # pl.col('sample_rate').replace({0: '4ms', 1: '2ms', 2: '1ms'}).alias('sample_interval'),\n",
    "        pl.col('sample_rate').replace({0: 250, 1: 500, 2: 1000}).alias('samplerate'),\n",
    "        pl.col('channel_0').list.len().alias('packetsizes'),\n",
    "    ]\n",
    ")#.with_columns(\n",
    "#     # Will overshoot by 1 sample, corrected by \"closed='left'\" call below\n",
    "#     localEndTime = pl.col('localTime') + pl.duration(milliseconds=pl.col('chunk_interval'))\n",
    "# )"
   ]
  },
  {
   "cell_type": "code",
   "execution_count": 8,
   "metadata": {},
   "outputs": [],
   "source": [
    "df = df.explode(pl.col('^channel.*$'))"
   ]
  },
  {
   "cell_type": "code",
   "execution_count": 9,
   "metadata": {},
   "outputs": [],
   "source": [
    "df = df.with_columns(\n",
    "    pl.when(\n",
    "        (pl.col('localTime').diff() != 0) | (pl.col('localTime').diff().is_null()),\n",
    "    ).then(\n",
    "        pl.col(['timestamp', 'PacketGenTime', 'systemTick', 'PacketRxUnixTime', 'samplerate', 'packetsizes'])\n",
    "    ).otherwise(pl.lit(None))\n",
    ")"
   ]
  },
  {
   "cell_type": "code",
   "execution_count": 15,
   "metadata": {},
   "outputs": [
    {
     "name": "stdout",
     "output_type": "stream",
     "text": [
      "Identifying and removing bad packets\n",
      "Chunking data\n",
      "Determining start time of each chunk\n",
      "Number of chunks: 1567\n",
      "Number of chunks with time calculated from PacketGenTime: 1567\n",
      "Shifting chunks to align with sampling rate\n"
     ]
    },
    {
     "ename": "IndexError",
     "evalue": "only integers, slices (`:`), ellipsis (`...`), numpy.newaxis (`None`) and integer or boolean arrays are valid indices",
     "output_type": "error",
     "traceback": [
      "\u001b[0;31m---------------------------------------------------------------------------\u001b[0m",
      "\u001b[0;31mIndexError\u001b[0m                                Traceback (most recent call last)",
      "Cell \u001b[0;32mIn[15], line 1\u001b[0m\n\u001b[0;32m----> 1\u001b[0m df_2 \u001b[38;5;241m=\u001b[39m assign_time(df\u001b[38;5;241m.\u001b[39mto_pandas())\n",
      "File \u001b[0;32m~/Desktop/code/rcs_cataloging/utils.py:374\u001b[0m, in \u001b[0;36massign_time\u001b[0;34m(***failed resolving arguments***)\u001b[0m\n\u001b[1;32m    372\u001b[0m \u001b[38;5;28;01mfor\u001b[39;00m i_chunk \u001b[38;5;129;01min\u001b[39;00m \u001b[38;5;28mrange\u001b[39m(\u001b[38;5;28mlen\u001b[39m(chunk_indices)):\n\u001b[1;32m    373\u001b[0m     current_packets \u001b[38;5;241m=\u001b[39m chunk_indices[i_chunk]\n\u001b[0;32m--> 374\u001b[0m     chunk_packet_start[i_chunk] \u001b[38;5;241m=\u001b[39m indices_of_timestamps_cleaned[current_packets[\u001b[38;5;241m0\u001b[39m]]\n\u001b[1;32m    375\u001b[0m     \u001b[38;5;28;01mif\u001b[39;00m current_packets[\u001b[38;5;241m0\u001b[39m] \u001b[38;5;241m==\u001b[39m \u001b[38;5;241m0\u001b[39m:  \u001b[38;5;66;03m# First packet, thus take first sample\u001b[39;00m\n\u001b[1;32m    376\u001b[0m         chunk_sample_start[i_chunk] \u001b[38;5;241m=\u001b[39m \u001b[38;5;241m0\u001b[39m\n",
      "\u001b[0;31mIndexError\u001b[0m: only integers, slices (`:`), ellipsis (`...`), numpy.newaxis (`None`) and integer or boolean arrays are valid indices"
     ]
    }
   ],
   "source": [
    "df_2 = assign_time(df.to_pandas())"
   ]
  },
  {
   "cell_type": "code",
   "execution_count": null,
   "metadata": {},
   "outputs": [],
   "source": []
  },
  {
   "cell_type": "code",
   "execution_count": 7,
   "metadata": {},
   "outputs": [
    {
     "name": "stderr",
     "output_type": "stream",
     "text": [
      "/var/folders/1d/gj64tt_x46x6d62lws668qnr0000gn/T/ipykernel_12681/1998063042.py:5: DeprecationWarning: `partition_by(..., as_dict=True)` will change to always return tuples as dictionary keys. Pass `by` as a list to silence this warning, e.g. `partition_by(['sample_interval'], as_dict=True)`.\n",
      "  for interval, df_tmp in df.partition_by('sample_interval',as_dict=True).items()],\n"
     ]
    }
   ],
   "source": [
    "df = pl.concat([df_tmp.with_columns(\n",
    "                    (pl.datetime_ranges(pl.col('localTime'), pl.col('localEndTime'), interval=interval, closed='left')\n",
    "                    ).alias('localTime_vec')\n",
    "                )\n",
    "                for interval, df_tmp in df.partition_by('sample_interval',as_dict=True).items()], \n",
    "    how='vertical').sort('localTime')\n",
    "# Select only the columns we want...\n",
    "                "
   ]
  },
  {
   "cell_type": "code",
   "execution_count": 8,
   "metadata": {},
   "outputs": [
    {
     "data": {
      "text/html": [
       "<div><style>\n",
       ".dataframe > thead > tr,\n",
       ".dataframe > tbody > tr {\n",
       "  text-align: right;\n",
       "  white-space: pre-wrap;\n",
       "}\n",
       "</style>\n",
       "<small>shape: (5, 14)</small><table border=\"1\" class=\"dataframe\"><thead><tr><th>localTime</th><th>timestamp</th><th>PacketGenTime</th><th>PacketRxUnixTime</th><th>sample_rate</th><th>channel_0</th><th>channel_1</th><th>channel_2</th><th>channel_3</th><th>chunk_interval</th><th>sample_interval</th><th>RateInHz</th><th>localEndTime</th><th>localTime_vec</th></tr><tr><td>datetime[ms]</td><td>i64</td><td>i64</td><td>i64</td><td>i64</td><td>list[f64]</td><td>list[f64]</td><td>list[f64]</td><td>list[f64]</td><td>i64</td><td>str</td><td>i64</td><td>datetime[ms]</td><td>list[datetime[ms]]</td></tr></thead><tbody><tr><td>2021-08-18 00:00:50.624</td><td>677376004</td><td>-62135568000000</td><td>1629270050624</td><td>0</td><td>[-0.135137, -0.099997, … -0.165613]</td><td>[-0.151189, -0.115506, … -0.177001]</td><td>[-0.056013, -0.042119, … -0.055138]</td><td>[-0.020173, -0.005965, … -0.019305]</td><td>48</td><td>&quot;4ms&quot;</td><td>250</td><td>2021-08-18 00:00:50.672</td><td>[2021-08-18 00:00:50.624, 2021-08-18 00:00:50.628, … 2021-08-18 00:00:50.668]</td></tr><tr><td>2021-08-18 00:00:50.701</td><td>677376004</td><td>-62135568000000</td><td>1629270050701</td><td>0</td><td>[-0.130365, -0.123858, … -0.121905]</td><td>[-0.143705, -0.138065, … -0.138825]</td><td>[-0.057325, -0.067609, … -0.076799]</td><td>[-0.018221, -0.029175, … -0.03796]</td><td>52</td><td>&quot;4ms&quot;</td><td>250</td><td>2021-08-18 00:00:50.753</td><td>[2021-08-18 00:00:50.701, 2021-08-18 00:00:50.705, … 2021-08-18 00:00:50.749]</td></tr><tr><td>2021-08-18 00:00:50.748</td><td>677376004</td><td>-62135568000000</td><td>1629270050748</td><td>0</td><td>[-0.163444, -0.167349, … -0.166915]</td><td>[-0.180147, -0.183183, … -0.184268]</td><td>[-0.071438, -0.073407, … -0.070891]</td><td>[-0.035357, -0.034381, … -0.03373]</td><td>52</td><td>&quot;4ms&quot;</td><td>250</td><td>2021-08-18 00:00:50.800</td><td>[2021-08-18 00:00:50.748, 2021-08-18 00:00:50.752, … 2021-08-18 00:00:50.796]</td></tr><tr><td>2021-08-18 00:00:50.806</td><td>677376004</td><td>-62135568000000</td><td>1629270050806</td><td>0</td><td>[-0.216588, -0.145549, … -0.110951]</td><td>[-0.233182, -0.161926, … -0.126677]</td><td>[-0.074173, -0.079971, … -0.075595]</td><td>[-0.037418, -0.041647, … -0.037092]</td><td>48</td><td>&quot;4ms&quot;</td><td>250</td><td>2021-08-18 00:00:50.854</td><td>[2021-08-18 00:00:50.806, 2021-08-18 00:00:50.810, … 2021-08-18 00:00:50.850]</td></tr><tr><td>2021-08-18 00:00:50.860</td><td>677376004</td><td>-62135568000000</td><td>1629270050860</td><td>0</td><td>[-0.143163, -0.123966, … -0.139367]</td><td>[-0.160516, -0.138608, … -0.153466]</td><td>[-0.068594, -0.057872, … -0.058091]</td><td>[-0.029826, -0.018871, … -0.020932]</td><td>48</td><td>&quot;4ms&quot;</td><td>250</td><td>2021-08-18 00:00:50.908</td><td>[2021-08-18 00:00:50.860, 2021-08-18 00:00:50.864, … 2021-08-18 00:00:50.904]</td></tr></tbody></table></div>"
      ],
      "text/plain": [
       "shape: (5, 14)\n",
       "┌───────────┬───────────┬───────────┬───────────┬───┬───────────┬──────────┬───────────┬───────────┐\n",
       "│ localTime ┆ timestamp ┆ PacketGen ┆ PacketRxU ┆ … ┆ sample_in ┆ RateInHz ┆ localEndT ┆ localTime │\n",
       "│ ---       ┆ ---       ┆ Time      ┆ nixTime   ┆   ┆ terval    ┆ ---      ┆ ime       ┆ _vec      │\n",
       "│ datetime[ ┆ i64       ┆ ---       ┆ ---       ┆   ┆ ---       ┆ i64      ┆ ---       ┆ ---       │\n",
       "│ ms]       ┆           ┆ i64       ┆ i64       ┆   ┆ str       ┆          ┆ datetime[ ┆ list[date │\n",
       "│           ┆           ┆           ┆           ┆   ┆           ┆          ┆ ms]       ┆ time[ms]] │\n",
       "╞═══════════╪═══════════╪═══════════╪═══════════╪═══╪═══════════╪══════════╪═══════════╪═══════════╡\n",
       "│ 2021-08-1 ┆ 677376004 ┆ -62135568 ┆ 162927005 ┆ … ┆ 4ms       ┆ 250      ┆ 2021-08-1 ┆ [2021-08- │\n",
       "│ 8 00:00:5 ┆           ┆ 000000    ┆ 0624      ┆   ┆           ┆          ┆ 8 00:00:5 ┆ 18 00:00: │\n",
       "│ 0.624     ┆           ┆           ┆           ┆   ┆           ┆          ┆ 0.672     ┆ 50.624,   │\n",
       "│           ┆           ┆           ┆           ┆   ┆           ┆          ┆           ┆ 2021-0…   │\n",
       "│ 2021-08-1 ┆ 677376004 ┆ -62135568 ┆ 162927005 ┆ … ┆ 4ms       ┆ 250      ┆ 2021-08-1 ┆ [2021-08- │\n",
       "│ 8 00:00:5 ┆           ┆ 000000    ┆ 0701      ┆   ┆           ┆          ┆ 8 00:00:5 ┆ 18 00:00: │\n",
       "│ 0.701     ┆           ┆           ┆           ┆   ┆           ┆          ┆ 0.753     ┆ 50.701,   │\n",
       "│           ┆           ┆           ┆           ┆   ┆           ┆          ┆           ┆ 2021-0…   │\n",
       "│ 2021-08-1 ┆ 677376004 ┆ -62135568 ┆ 162927005 ┆ … ┆ 4ms       ┆ 250      ┆ 2021-08-1 ┆ [2021-08- │\n",
       "│ 8 00:00:5 ┆           ┆ 000000    ┆ 0748      ┆   ┆           ┆          ┆ 8 00:00:5 ┆ 18 00:00: │\n",
       "│ 0.748     ┆           ┆           ┆           ┆   ┆           ┆          ┆ 0.800     ┆ 50.748,   │\n",
       "│           ┆           ┆           ┆           ┆   ┆           ┆          ┆           ┆ 2021-0…   │\n",
       "│ 2021-08-1 ┆ 677376004 ┆ -62135568 ┆ 162927005 ┆ … ┆ 4ms       ┆ 250      ┆ 2021-08-1 ┆ [2021-08- │\n",
       "│ 8 00:00:5 ┆           ┆ 000000    ┆ 0806      ┆   ┆           ┆          ┆ 8 00:00:5 ┆ 18 00:00: │\n",
       "│ 0.806     ┆           ┆           ┆           ┆   ┆           ┆          ┆ 0.854     ┆ 50.806,   │\n",
       "│           ┆           ┆           ┆           ┆   ┆           ┆          ┆           ┆ 2021-0…   │\n",
       "│ 2021-08-1 ┆ 677376004 ┆ -62135568 ┆ 162927005 ┆ … ┆ 4ms       ┆ 250      ┆ 2021-08-1 ┆ [2021-08- │\n",
       "│ 8 00:00:5 ┆           ┆ 000000    ┆ 0860      ┆   ┆           ┆          ┆ 8 00:00:5 ┆ 18 00:00: │\n",
       "│ 0.860     ┆           ┆           ┆           ┆   ┆           ┆          ┆ 0.908     ┆ 50.860,   │\n",
       "│           ┆           ┆           ┆           ┆   ┆           ┆          ┆           ┆ 2021-0…   │\n",
       "└───────────┴───────────┴───────────┴───────────┴───┴───────────┴──────────┴───────────┴───────────┘"
      ]
     },
     "execution_count": 8,
     "metadata": {},
     "output_type": "execute_result"
    }
   ],
   "source": [
    "df.head()"
   ]
  },
  {
   "cell_type": "code",
   "execution_count": 9,
   "metadata": {},
   "outputs": [],
   "source": [
    "list_chans = cs.by_name(['channel_0', 'channel_1', 'channel_2', 'channel_3', 'localTime_vec'])\n",
    "df = df.explode(list_chans)"
   ]
  },
  {
   "cell_type": "code",
   "execution_count": 10,
   "metadata": {},
   "outputs": [
    {
     "data": {
      "text/html": [
       "<div><style>\n",
       ".dataframe > thead > tr,\n",
       ".dataframe > tbody > tr {\n",
       "  text-align: right;\n",
       "  white-space: pre-wrap;\n",
       "}\n",
       "</style>\n",
       "<small>shape: (5, 14)</small><table border=\"1\" class=\"dataframe\"><thead><tr><th>localTime</th><th>timestamp</th><th>PacketGenTime</th><th>PacketRxUnixTime</th><th>sample_rate</th><th>channel_0</th><th>channel_1</th><th>channel_2</th><th>channel_3</th><th>chunk_interval</th><th>sample_interval</th><th>RateInHz</th><th>localEndTime</th><th>localTime_vec</th></tr><tr><td>datetime[ms]</td><td>i64</td><td>i64</td><td>i64</td><td>i64</td><td>f64</td><td>f64</td><td>f64</td><td>f64</td><td>i64</td><td>str</td><td>i64</td><td>datetime[ms]</td><td>datetime[ms]</td></tr></thead><tbody><tr><td>2021-08-18 00:00:50.624</td><td>677376004</td><td>-62135568000000</td><td>1629270050624</td><td>0</td><td>-0.135137</td><td>-0.151189</td><td>-0.056013</td><td>-0.020173</td><td>48</td><td>&quot;4ms&quot;</td><td>250</td><td>2021-08-18 00:00:50.672</td><td>2021-08-18 00:00:50.624</td></tr><tr><td>2021-08-18 00:00:50.624</td><td>677376004</td><td>-62135568000000</td><td>1629270050624</td><td>0</td><td>-0.099997</td><td>-0.115506</td><td>-0.042119</td><td>-0.005965</td><td>48</td><td>&quot;4ms&quot;</td><td>250</td><td>2021-08-18 00:00:50.672</td><td>2021-08-18 00:00:50.628</td></tr><tr><td>2021-08-18 00:00:50.624</td><td>677376004</td><td>-62135568000000</td><td>1629270050624</td><td>0</td><td>-0.103468</td><td>-0.120278</td><td>-0.044088</td><td>-0.009761</td><td>48</td><td>&quot;4ms&quot;</td><td>250</td><td>2021-08-18 00:00:50.672</td><td>2021-08-18 00:00:50.632</td></tr><tr><td>2021-08-18 00:00:50.624</td><td>677376004</td><td>-62135568000000</td><td>1629270050624</td><td>0</td><td>-0.083403</td><td>-0.098804</td><td>-0.063889</td><td>-0.026897</td><td>48</td><td>&quot;4ms&quot;</td><td>250</td><td>2021-08-18 00:00:50.672</td><td>2021-08-18 00:00:50.636</td></tr><tr><td>2021-08-18 00:00:50.624</td><td>677376004</td><td>-62135568000000</td><td>1629270050624</td><td>0</td><td>-0.084379</td><td>-0.099021</td><td>-0.077893</td><td>-0.038719</td><td>48</td><td>&quot;4ms&quot;</td><td>250</td><td>2021-08-18 00:00:50.672</td><td>2021-08-18 00:00:50.640</td></tr></tbody></table></div>"
      ],
      "text/plain": [
       "shape: (5, 14)\n",
       "┌───────────┬───────────┬───────────┬───────────┬───┬───────────┬──────────┬───────────┬───────────┐\n",
       "│ localTime ┆ timestamp ┆ PacketGen ┆ PacketRxU ┆ … ┆ sample_in ┆ RateInHz ┆ localEndT ┆ localTime │\n",
       "│ ---       ┆ ---       ┆ Time      ┆ nixTime   ┆   ┆ terval    ┆ ---      ┆ ime       ┆ _vec      │\n",
       "│ datetime[ ┆ i64       ┆ ---       ┆ ---       ┆   ┆ ---       ┆ i64      ┆ ---       ┆ ---       │\n",
       "│ ms]       ┆           ┆ i64       ┆ i64       ┆   ┆ str       ┆          ┆ datetime[ ┆ datetime[ │\n",
       "│           ┆           ┆           ┆           ┆   ┆           ┆          ┆ ms]       ┆ ms]       │\n",
       "╞═══════════╪═══════════╪═══════════╪═══════════╪═══╪═══════════╪══════════╪═══════════╪═══════════╡\n",
       "│ 2021-08-1 ┆ 677376004 ┆ -62135568 ┆ 162927005 ┆ … ┆ 4ms       ┆ 250      ┆ 2021-08-1 ┆ 2021-08-1 │\n",
       "│ 8 00:00:5 ┆           ┆ 000000    ┆ 0624      ┆   ┆           ┆          ┆ 8 00:00:5 ┆ 8 00:00:5 │\n",
       "│ 0.624     ┆           ┆           ┆           ┆   ┆           ┆          ┆ 0.672     ┆ 0.624     │\n",
       "│ 2021-08-1 ┆ 677376004 ┆ -62135568 ┆ 162927005 ┆ … ┆ 4ms       ┆ 250      ┆ 2021-08-1 ┆ 2021-08-1 │\n",
       "│ 8 00:00:5 ┆           ┆ 000000    ┆ 0624      ┆   ┆           ┆          ┆ 8 00:00:5 ┆ 8 00:00:5 │\n",
       "│ 0.624     ┆           ┆           ┆           ┆   ┆           ┆          ┆ 0.672     ┆ 0.628     │\n",
       "│ 2021-08-1 ┆ 677376004 ┆ -62135568 ┆ 162927005 ┆ … ┆ 4ms       ┆ 250      ┆ 2021-08-1 ┆ 2021-08-1 │\n",
       "│ 8 00:00:5 ┆           ┆ 000000    ┆ 0624      ┆   ┆           ┆          ┆ 8 00:00:5 ┆ 8 00:00:5 │\n",
       "│ 0.624     ┆           ┆           ┆           ┆   ┆           ┆          ┆ 0.672     ┆ 0.632     │\n",
       "│ 2021-08-1 ┆ 677376004 ┆ -62135568 ┆ 162927005 ┆ … ┆ 4ms       ┆ 250      ┆ 2021-08-1 ┆ 2021-08-1 │\n",
       "│ 8 00:00:5 ┆           ┆ 000000    ┆ 0624      ┆   ┆           ┆          ┆ 8 00:00:5 ┆ 8 00:00:5 │\n",
       "│ 0.624     ┆           ┆           ┆           ┆   ┆           ┆          ┆ 0.672     ┆ 0.636     │\n",
       "│ 2021-08-1 ┆ 677376004 ┆ -62135568 ┆ 162927005 ┆ … ┆ 4ms       ┆ 250      ┆ 2021-08-1 ┆ 2021-08-1 │\n",
       "│ 8 00:00:5 ┆           ┆ 000000    ┆ 0624      ┆   ┆           ┆          ┆ 8 00:00:5 ┆ 8 00:00:5 │\n",
       "│ 0.624     ┆           ┆           ┆           ┆   ┆           ┆          ┆ 0.672     ┆ 0.640     │\n",
       "└───────────┴───────────┴───────────┴───────────┴───┴───────────┴──────────┴───────────┴───────────┘"
      ]
     },
     "execution_count": 10,
     "metadata": {},
     "output_type": "execute_result"
    }
   ],
   "source": [
    "df.head()"
   ]
  },
  {
   "cell_type": "code",
   "execution_count": 11,
   "metadata": {},
   "outputs": [
    {
     "data": {
      "text/html": [
       "<div><style>\n",
       ".dataframe > thead > tr,\n",
       ".dataframe > tbody > tr {\n",
       "  text-align: right;\n",
       "  white-space: pre-wrap;\n",
       "}\n",
       "</style>\n",
       "<small>shape: (5_490_595, 14)</small><table border=\"1\" class=\"dataframe\"><thead><tr><th>localTime</th><th>timestamp</th><th>PacketGenTime</th><th>PacketRxUnixTime</th><th>sample_rate</th><th>channel_0</th><th>channel_1</th><th>channel_2</th><th>channel_3</th><th>chunk_interval</th><th>sample_interval</th><th>RateInHz</th><th>localEndTime</th><th>localTime_vec</th></tr><tr><td>datetime[ms]</td><td>i64</td><td>i64</td><td>i64</td><td>i64</td><td>f64</td><td>f64</td><td>f64</td><td>f64</td><td>i64</td><td>str</td><td>i64</td><td>datetime[ms]</td><td>datetime[ms]</td></tr></thead><tbody><tr><td>2021-08-18 00:00:50.624</td><td>677376004</td><td>-62135568000000</td><td>1629270050624</td><td>0</td><td>-0.135137</td><td>-0.151189</td><td>-0.056013</td><td>-0.020173</td><td>48</td><td>&quot;4ms&quot;</td><td>250</td><td>2021-08-18 00:00:50.672</td><td>2021-08-18 00:00:50.624</td></tr><tr><td>2021-08-18 00:00:50.624</td><td>677376004</td><td>-62135568000000</td><td>1629270050624</td><td>0</td><td>-0.099997</td><td>-0.115506</td><td>-0.042119</td><td>-0.005965</td><td>48</td><td>&quot;4ms&quot;</td><td>250</td><td>2021-08-18 00:00:50.672</td><td>2021-08-18 00:00:50.628</td></tr><tr><td>2021-08-18 00:00:50.624</td><td>677376004</td><td>-62135568000000</td><td>1629270050624</td><td>0</td><td>-0.103468</td><td>-0.120278</td><td>-0.044088</td><td>-0.009761</td><td>48</td><td>&quot;4ms&quot;</td><td>250</td><td>2021-08-18 00:00:50.672</td><td>2021-08-18 00:00:50.632</td></tr><tr><td>2021-08-18 00:00:50.624</td><td>677376004</td><td>-62135568000000</td><td>1629270050624</td><td>0</td><td>-0.083403</td><td>-0.098804</td><td>-0.063889</td><td>-0.026897</td><td>48</td><td>&quot;4ms&quot;</td><td>250</td><td>2021-08-18 00:00:50.672</td><td>2021-08-18 00:00:50.636</td></tr><tr><td>2021-08-18 00:00:50.624</td><td>677376004</td><td>-62135568000000</td><td>1629270050624</td><td>0</td><td>-0.084379</td><td>-0.099021</td><td>-0.077893</td><td>-0.038719</td><td>48</td><td>&quot;4ms&quot;</td><td>250</td><td>2021-08-18 00:00:50.672</td><td>2021-08-18 00:00:50.640</td></tr><tr><td>&hellip;</td><td>&hellip;</td><td>&hellip;</td><td>&hellip;</td><td>&hellip;</td><td>&hellip;</td><td>&hellip;</td><td>&hellip;</td><td>&hellip;</td><td>&hellip;</td><td>&hellip;</td><td>&hellip;</td><td>&hellip;</td><td>&hellip;</td></tr><tr><td>2021-08-18 06:07:32.925</td><td>677398006</td><td>1629292052855</td><td>1629292052925</td><td>0</td><td>-0.087633</td><td>-0.100214</td><td>-0.12034</td><td>-0.08503</td><td>52</td><td>&quot;4ms&quot;</td><td>250</td><td>2021-08-18 06:07:32.977</td><td>2021-08-18 06:07:32.957</td></tr><tr><td>2021-08-18 06:07:32.925</td><td>677398006</td><td>1629292052855</td><td>1629292052925</td><td>0</td><td>-0.110517</td><td>-0.1244</td><td>-0.12034</td><td>-0.086006</td><td>52</td><td>&quot;4ms&quot;</td><td>250</td><td>2021-08-18 06:07:32.977</td><td>2021-08-18 06:07:32.961</td></tr><tr><td>2021-08-18 06:07:32.925</td><td>677398006</td><td>1629292052855</td><td>1629292052925</td><td>0</td><td>-0.085681</td><td>-0.101407</td><td>-0.125482</td><td>-0.091104</td><td>52</td><td>&quot;4ms&quot;</td><td>250</td><td>2021-08-18 06:07:32.977</td><td>2021-08-18 06:07:32.965</td></tr><tr><td>2021-08-18 06:07:32.925</td><td>677398006</td><td>1629292052855</td><td>1629292052925</td><td>0</td><td>-0.111493</td><td>-0.125267</td><td>-0.126904</td><td>-0.092405</td><td>52</td><td>&quot;4ms&quot;</td><td>250</td><td>2021-08-18 06:07:32.977</td><td>2021-08-18 06:07:32.969</td></tr><tr><td>2021-08-18 06:07:32.925</td><td>677398006</td><td>1629292052855</td><td>1629292052925</td><td>0</td><td>-0.079824</td><td>-0.095333</td><td>-0.129529</td><td>-0.095333</td><td>52</td><td>&quot;4ms&quot;</td><td>250</td><td>2021-08-18 06:07:32.977</td><td>2021-08-18 06:07:32.973</td></tr></tbody></table></div>"
      ],
      "text/plain": [
       "shape: (5_490_595, 14)\n",
       "┌───────────┬───────────┬───────────┬───────────┬───┬───────────┬──────────┬───────────┬───────────┐\n",
       "│ localTime ┆ timestamp ┆ PacketGen ┆ PacketRxU ┆ … ┆ sample_in ┆ RateInHz ┆ localEndT ┆ localTime │\n",
       "│ ---       ┆ ---       ┆ Time      ┆ nixTime   ┆   ┆ terval    ┆ ---      ┆ ime       ┆ _vec      │\n",
       "│ datetime[ ┆ i64       ┆ ---       ┆ ---       ┆   ┆ ---       ┆ i64      ┆ ---       ┆ ---       │\n",
       "│ ms]       ┆           ┆ i64       ┆ i64       ┆   ┆ str       ┆          ┆ datetime[ ┆ datetime[ │\n",
       "│           ┆           ┆           ┆           ┆   ┆           ┆          ┆ ms]       ┆ ms]       │\n",
       "╞═══════════╪═══════════╪═══════════╪═══════════╪═══╪═══════════╪══════════╪═══════════╪═══════════╡\n",
       "│ 2021-08-1 ┆ 677376004 ┆ -62135568 ┆ 162927005 ┆ … ┆ 4ms       ┆ 250      ┆ 2021-08-1 ┆ 2021-08-1 │\n",
       "│ 8 00:00:5 ┆           ┆ 000000    ┆ 0624      ┆   ┆           ┆          ┆ 8 00:00:5 ┆ 8 00:00:5 │\n",
       "│ 0.624     ┆           ┆           ┆           ┆   ┆           ┆          ┆ 0.672     ┆ 0.624     │\n",
       "│ 2021-08-1 ┆ 677376004 ┆ -62135568 ┆ 162927005 ┆ … ┆ 4ms       ┆ 250      ┆ 2021-08-1 ┆ 2021-08-1 │\n",
       "│ 8 00:00:5 ┆           ┆ 000000    ┆ 0624      ┆   ┆           ┆          ┆ 8 00:00:5 ┆ 8 00:00:5 │\n",
       "│ 0.624     ┆           ┆           ┆           ┆   ┆           ┆          ┆ 0.672     ┆ 0.628     │\n",
       "│ 2021-08-1 ┆ 677376004 ┆ -62135568 ┆ 162927005 ┆ … ┆ 4ms       ┆ 250      ┆ 2021-08-1 ┆ 2021-08-1 │\n",
       "│ 8 00:00:5 ┆           ┆ 000000    ┆ 0624      ┆   ┆           ┆          ┆ 8 00:00:5 ┆ 8 00:00:5 │\n",
       "│ 0.624     ┆           ┆           ┆           ┆   ┆           ┆          ┆ 0.672     ┆ 0.632     │\n",
       "│ 2021-08-1 ┆ 677376004 ┆ -62135568 ┆ 162927005 ┆ … ┆ 4ms       ┆ 250      ┆ 2021-08-1 ┆ 2021-08-1 │\n",
       "│ 8 00:00:5 ┆           ┆ 000000    ┆ 0624      ┆   ┆           ┆          ┆ 8 00:00:5 ┆ 8 00:00:5 │\n",
       "│ 0.624     ┆           ┆           ┆           ┆   ┆           ┆          ┆ 0.672     ┆ 0.636     │\n",
       "│ 2021-08-1 ┆ 677376004 ┆ -62135568 ┆ 162927005 ┆ … ┆ 4ms       ┆ 250      ┆ 2021-08-1 ┆ 2021-08-1 │\n",
       "│ 8 00:00:5 ┆           ┆ 000000    ┆ 0624      ┆   ┆           ┆          ┆ 8 00:00:5 ┆ 8 00:00:5 │\n",
       "│ 0.624     ┆           ┆           ┆           ┆   ┆           ┆          ┆ 0.672     ┆ 0.640     │\n",
       "│ …         ┆ …         ┆ …         ┆ …         ┆ … ┆ …         ┆ …        ┆ …         ┆ …         │\n",
       "│ 2021-08-1 ┆ 677398006 ┆ 162929205 ┆ 162929205 ┆ … ┆ 4ms       ┆ 250      ┆ 2021-08-1 ┆ 2021-08-1 │\n",
       "│ 8 06:07:3 ┆           ┆ 2855      ┆ 2925      ┆   ┆           ┆          ┆ 8 06:07:3 ┆ 8 06:07:3 │\n",
       "│ 2.925     ┆           ┆           ┆           ┆   ┆           ┆          ┆ 2.977     ┆ 2.957     │\n",
       "│ 2021-08-1 ┆ 677398006 ┆ 162929205 ┆ 162929205 ┆ … ┆ 4ms       ┆ 250      ┆ 2021-08-1 ┆ 2021-08-1 │\n",
       "│ 8 06:07:3 ┆           ┆ 2855      ┆ 2925      ┆   ┆           ┆          ┆ 8 06:07:3 ┆ 8 06:07:3 │\n",
       "│ 2.925     ┆           ┆           ┆           ┆   ┆           ┆          ┆ 2.977     ┆ 2.961     │\n",
       "│ 2021-08-1 ┆ 677398006 ┆ 162929205 ┆ 162929205 ┆ … ┆ 4ms       ┆ 250      ┆ 2021-08-1 ┆ 2021-08-1 │\n",
       "│ 8 06:07:3 ┆           ┆ 2855      ┆ 2925      ┆   ┆           ┆          ┆ 8 06:07:3 ┆ 8 06:07:3 │\n",
       "│ 2.925     ┆           ┆           ┆           ┆   ┆           ┆          ┆ 2.977     ┆ 2.965     │\n",
       "│ 2021-08-1 ┆ 677398006 ┆ 162929205 ┆ 162929205 ┆ … ┆ 4ms       ┆ 250      ┆ 2021-08-1 ┆ 2021-08-1 │\n",
       "│ 8 06:07:3 ┆           ┆ 2855      ┆ 2925      ┆   ┆           ┆          ┆ 8 06:07:3 ┆ 8 06:07:3 │\n",
       "│ 2.925     ┆           ┆           ┆           ┆   ┆           ┆          ┆ 2.977     ┆ 2.969     │\n",
       "│ 2021-08-1 ┆ 677398006 ┆ 162929205 ┆ 162929205 ┆ … ┆ 4ms       ┆ 250      ┆ 2021-08-1 ┆ 2021-08-1 │\n",
       "│ 8 06:07:3 ┆           ┆ 2855      ┆ 2925      ┆   ┆           ┆          ┆ 8 06:07:3 ┆ 8 06:07:3 │\n",
       "│ 2.925     ┆           ┆           ┆           ┆   ┆           ┆          ┆ 2.977     ┆ 2.973     │\n",
       "└───────────┴───────────┴───────────┴───────────┴───┴───────────┴──────────┴───────────┴───────────┘"
      ]
     },
     "execution_count": 11,
     "metadata": {},
     "output_type": "execute_result"
    }
   ],
   "source": [
    "df.sort('localTime_vec')"
   ]
  },
  {
   "cell_type": "code",
   "execution_count": 19,
   "metadata": {},
   "outputs": [],
   "source": [
    "tmp = df.sort('localTime_vec').with_columns(\n",
    "    pl.col('localTime_vec').diff().alias('diff')\n",
    ").get_column('diff')"
   ]
  },
  {
   "cell_type": "code",
   "execution_count": 21,
   "metadata": {},
   "outputs": [
    {
     "data": {
      "text/html": [
       "<div><style>\n",
       ".dataframe > thead > tr,\n",
       ".dataframe > tbody > tr {\n",
       "  text-align: right;\n",
       "  white-space: pre-wrap;\n",
       "}\n",
       "</style>\n",
       "<small>shape: (181, 2)</small><table border=\"1\" class=\"dataframe\"><thead><tr><th>diff</th><th>count</th></tr><tr><td>duration[ms]</td><td>u32</td></tr></thead><tbody><tr><td>4ms</td><td>3338482</td></tr><tr><td>162ms</td><td>1</td></tr><tr><td>45ms</td><td>1367</td></tr><tr><td>165ms</td><td>3</td></tr><tr><td>78ms</td><td>212</td></tr><tr><td>&hellip;</td><td>&hellip;</td></tr><tr><td>60ms</td><td>676</td></tr><tr><td>171ms</td><td>1</td></tr><tr><td>39ms</td><td>1908</td></tr><tr><td>109ms</td><td>14</td></tr><tr><td>0ms</td><td>280486</td></tr></tbody></table></div>"
      ],
      "text/plain": [
       "shape: (181, 2)\n",
       "┌──────────────┬─────────┐\n",
       "│ diff         ┆ count   │\n",
       "│ ---          ┆ ---     │\n",
       "│ duration[ms] ┆ u32     │\n",
       "╞══════════════╪═════════╡\n",
       "│ 4ms          ┆ 3338482 │\n",
       "│ 162ms        ┆ 1       │\n",
       "│ 45ms         ┆ 1367    │\n",
       "│ 165ms        ┆ 3       │\n",
       "│ 78ms         ┆ 212     │\n",
       "│ …            ┆ …       │\n",
       "│ 60ms         ┆ 676     │\n",
       "│ 171ms        ┆ 1       │\n",
       "│ 39ms         ┆ 1908    │\n",
       "│ 109ms        ┆ 14      │\n",
       "│ 0ms          ┆ 280486  │\n",
       "└──────────────┴─────────┘"
      ]
     },
     "execution_count": 21,
     "metadata": {},
     "output_type": "execute_result"
    }
   ],
   "source": [
    "tmp.value_counts()"
   ]
  },
  {
   "cell_type": "code",
   "execution_count": 12,
   "metadata": {},
   "outputs": [
    {
     "data": {
      "text/html": [
       "<div><style>\n",
       ".dataframe > thead > tr,\n",
       ".dataframe > tbody > tr {\n",
       "  text-align: right;\n",
       "  white-space: pre-wrap;\n",
       "}\n",
       "</style>\n",
       "<small>shape: (66,)</small><table border=\"1\" class=\"dataframe\"><thead><tr><th>epoch_length</th></tr><tr><td>u32</td></tr></thead><tbody><tr><td>655</td></tr><tr><td>575</td></tr><tr><td>1795</td></tr><tr><td>1350</td></tr><tr><td>1692</td></tr><tr><td>&hellip;</td></tr><tr><td>1</td></tr><tr><td>1</td></tr><tr><td>1</td></tr><tr><td>1</td></tr><tr><td>1</td></tr></tbody></table></div>"
      ],
      "text/plain": [
       "shape: (66,)\n",
       "Series: 'epoch_length' [u32]\n",
       "[\n",
       "\t655\n",
       "\t575\n",
       "\t1795\n",
       "\t1350\n",
       "\t1692\n",
       "\t…\n",
       "\t1\n",
       "\t1\n",
       "\t1\n",
       "\t1\n",
       "\t1\n",
       "]"
      ]
     },
     "execution_count": 12,
     "metadata": {},
     "output_type": "execute_result"
    }
   ],
   "source": [
    "df.sort('localTime_vec').group_by_dynamic('localTime_vec', every='1s', period='1s', start_by='datapoint').agg(\n",
    "    [\n",
    "        pl.col('localTime').first(),\n",
    "        pl.col('timestamp').first(),\n",
    "        pl.col('PacketGenTime').first(),\n",
    "        pl.col('PacketRxUnixTime').first(),\n",
    "        pl.col('RateInHz').first(),\n",
    "        pl.col('channel_0'),\n",
    "        pl.col('channel_1'),\n",
    "        pl.col('channel_2'),\n",
    "        pl.col('channel_3'),\n",
    "        pl.col('localTime_vec').count().alias('epoch_length'),\n",
    "    ]\n",
    ").get_column('epoch_length').unique_counts()"
   ]
  },
  {
   "cell_type": "markdown",
   "metadata": {},
   "source": [
    "## Settings"
   ]
  },
  {
   "cell_type": "code",
   "execution_count": 31,
   "metadata": {},
   "outputs": [],
   "source": [
    "device_settings_file = '/Users/claysmyth/Desktop/Starr/RCS_Hypno_Data/RCS02/RCS02R/8_18_21/Session1629269941495/DeviceNPC700404H/DeviceSettings.json'\n",
    "with open(device_settings_file, 'r') as file:\n",
    "    settings_data = json.load(file)"
   ]
  },
  {
   "cell_type": "code",
   "execution_count": 117,
   "metadata": {},
   "outputs": [
    {
     "name": "stdout",
     "output_type": "stream",
     "text": [
      "{'elecValue': 63, 'electrodeType': 1, 'isOff': False, 'reserved1': 0}\n",
      "{'RecordInfo': {'ApiVer': '1.6.0.0', 'DeviceId': 'NPC700404H', 'HostUnixTime': 1629269956365, 'SessionId': '1629269941495'}, 'GeneralData': {'batteryStatus': 91, 'daysUntilEos': 2446, 'deviceSerialNumber': [78, 80, 67, 55, 48, 48, 52, 48, 52, 72], 'deviceTime': {'seconds': 677375910}, 'hybridSerialNumber': [0, 2, 153, 24, 193, 154], 'implantDate': {'seconds': 605318400}, 'isEos': False, 'isEri': False, 'isInCPSession': False, 'isMriModeOn': False, 'isOvervoltage': False, 'isTherapyUnavailable': False, 'telMDeviceId': [64, 0, 84, 200, 198, 12], 'therapyStatusData': {'activeGroup': 3, 'therapyStatus': 1}, 'type': 1}}\n",
      "{'RecordInfo': {'ApiVer': '1.6.0.0', 'DeviceId': 'NPC700404H', 'HostUnixTime': 1629269956651, 'SessionId': '1629269941495'}, 'GeneralData': {'batteryStatus': 91, 'daysUntilEos': 2446, 'deviceSerialNumber': [78, 80, 67, 55, 48, 48, 52, 48, 52, 72], 'deviceTime': {'seconds': 677375910}, 'hybridSerialNumber': [0, 2, 153, 24, 193, 154], 'implantDate': {'seconds': 605318400}, 'isEos': False, 'isEri': False, 'isInCPSession': False, 'isMriModeOn': False, 'isOvervoltage': False, 'isTherapyUnavailable': False, 'telMDeviceId': [64, 0, 84, 200, 198, 12], 'therapyStatusData': {'activeGroup': 3, 'therapyStatus': 1}, 'type': 1}}\n",
      "{'RecordInfo': {'ApiVer': '1.6.0.0', 'DeviceId': 'NPC700404H', 'HostUnixTime': 1629269956798, 'SessionId': '1629269941495'}, 'TherapyConfigGroup3': {'Index': 48, 'amplitudeResolution0_2mA': 48, 'cycleOffTime': {'time': 10, 'units': 0}, 'cycleOnTime': {'time': 10, 'units': 0}, 'cyclingEnabled': False, 'mode': 1, 'programs': [{'amplitude': 27, 'amplitudeInMilliamps': 2.7, 'electrodes': {'electrodes': [{'elecValue': 63, 'electrodeType': 1, 'isOff': True, 'reserved1': 1}, {'elecValue': 63, 'electrodeType': 0, 'isOff': False, 'reserved1': 0}, {'elecValue': 63, 'electrodeType': 1, 'isOff': True, 'reserved1': 1}, {'elecValue': 63, 'electrodeType': 1, 'isOff': True, 'reserved1': 1}, {'elecValue': 63, 'electrodeType': 1, 'isOff': True, 'reserved1': 1}, {'elecValue': 63, 'electrodeType': 1, 'isOff': True, 'reserved1': 1}, {'elecValue': 63, 'electrodeType': 1, 'isOff': True, 'reserved1': 1}, {'elecValue': 63, 'electrodeType': 1, 'isOff': True, 'reserved1': 1}, {'elecValue': 63, 'electrodeType': 1, 'isOff': True, 'reserved1': 1}, {'elecValue': 63, 'electrodeType': 1, 'isOff': True, 'reserved1': 1}, {'elecValue': 63, 'electrodeType': 1, 'isOff': True, 'reserved1': 1}, {'elecValue': 63, 'electrodeType': 1, 'isOff': True, 'reserved1': 1}, {'elecValue': 63, 'electrodeType': 1, 'isOff': True, 'reserved1': 1}, {'elecValue': 63, 'electrodeType': 1, 'isOff': True, 'reserved1': 1}, {'elecValue': 63, 'electrodeType': 1, 'isOff': True, 'reserved1': 1}, {'elecValue': 63, 'electrodeType': 1, 'isOff': True, 'reserved1': 1}, {'elecValue': 63, 'electrodeType': 1, 'isOff': False, 'reserved1': 0}]}, 'isEnabled': 0, 'miscSettings': {'activeRechargeRatio': 10, 'cyclingEnable': False, 'unused': 0, 'unused2': 0}, 'pulseWidth': 6, 'pulseWidthInMicroseconds': 60, 'reserved': [0, 0, 0, 0, 0, 0, 0, 0], 'reserved2': [85, 85, 85, 85, 85, 85, 85, 85, 85, 85, 85, 85, 85, 85, 85, 85, 85, 85, 85, 85, 85, 85, 85, 85, 85, 85, 85, 0, 85, 85, 85, 85, 85, 85, 85, 85, 85, 85, 85, 85, 85, 85, 85, 85, 85, 85, 85, 85, 85, 85, 85, 85, 85, 85, 85, 0], 'reservedRateMult': 1, 'subvalid': True, 'valid': True}, {'amplitude': 85, 'amplitudeInMilliamps': 8.5, 'electrodes': {'electrodes': [{'elecValue': 21, 'electrodeType': 1, 'isOff': False, 'reserved1': 0}, {'elecValue': 21, 'electrodeType': 1, 'isOff': False, 'reserved1': 0}, {'elecValue': 21, 'electrodeType': 1, 'isOff': False, 'reserved1': 0}, {'elecValue': 21, 'electrodeType': 1, 'isOff': False, 'reserved1': 0}, {'elecValue': 21, 'electrodeType': 1, 'isOff': False, 'reserved1': 0}, {'elecValue': 21, 'electrodeType': 1, 'isOff': False, 'reserved1': 0}, {'elecValue': 21, 'electrodeType': 1, 'isOff': False, 'reserved1': 0}, {'elecValue': 21, 'electrodeType': 1, 'isOff': False, 'reserved1': 0}, {'elecValue': 21, 'electrodeType': 1, 'isOff': False, 'reserved1': 0}, {'elecValue': 21, 'electrodeType': 1, 'isOff': False, 'reserved1': 0}, {'elecValue': 21, 'electrodeType': 1, 'isOff': False, 'reserved1': 0}, {'elecValue': 21, 'electrodeType': 1, 'isOff': False, 'reserved1': 0}, {'elecValue': 21, 'electrodeType': 1, 'isOff': False, 'reserved1': 0}, {'elecValue': 21, 'electrodeType': 1, 'isOff': False, 'reserved1': 0}, {'elecValue': 21, 'electrodeType': 1, 'isOff': False, 'reserved1': 0}, {'elecValue': 21, 'electrodeType': 1, 'isOff': False, 'reserved1': 0}, {'elecValue': 21, 'electrodeType': 1, 'isOff': False, 'reserved1': 0}]}, 'isEnabled': 131, 'miscSettings': {'activeRechargeRatio': 0, 'cyclingEnable': False, 'unused': 0, 'unused2': 0}, 'pulseWidth': 85, 'pulseWidthInMicroseconds': 850, 'reserved': [85, 85, 85, 85, 85, 85, 85, 85], 'reserved2': [85, 85, 85, 85, 85, 85, 85, 85, 85, 85, 85, 85, 85, 85, 85, 85, 85, 85, 85, 85, 85, 85, 85, 85, 85, 85, 85, 0, 85, 85, 85, 85, 85, 85, 85, 85, 85, 85, 85, 85, 85, 85, 85, 85, 85, 85, 85, 85, 85, 85, 85, 85, 85, 85, 85, 0], 'reservedRateMult': 85, 'subvalid': False, 'valid': False}, {'amplitude': 85, 'amplitudeInMilliamps': 8.5, 'electrodes': {'electrodes': [{'elecValue': 21, 'electrodeType': 1, 'isOff': False, 'reserved1': 0}, {'elecValue': 21, 'electrodeType': 1, 'isOff': False, 'reserved1': 0}, {'elecValue': 21, 'electrodeType': 1, 'isOff': False, 'reserved1': 0}, {'elecValue': 21, 'electrodeType': 1, 'isOff': False, 'reserved1': 0}, {'elecValue': 21, 'electrodeType': 1, 'isOff': False, 'reserved1': 0}, {'elecValue': 21, 'electrodeType': 1, 'isOff': False, 'reserved1': 0}, {'elecValue': 21, 'electrodeType': 1, 'isOff': False, 'reserved1': 0}, {'elecValue': 21, 'electrodeType': 1, 'isOff': False, 'reserved1': 0}, {'elecValue': 21, 'electrodeType': 1, 'isOff': False, 'reserved1': 0}, {'elecValue': 21, 'electrodeType': 1, 'isOff': False, 'reserved1': 0}, {'elecValue': 21, 'electrodeType': 1, 'isOff': False, 'reserved1': 0}, {'elecValue': 21, 'electrodeType': 1, 'isOff': False, 'reserved1': 0}, {'elecValue': 21, 'electrodeType': 1, 'isOff': False, 'reserved1': 0}, {'elecValue': 21, 'electrodeType': 1, 'isOff': False, 'reserved1': 0}, {'elecValue': 21, 'electrodeType': 1, 'isOff': False, 'reserved1': 0}, {'elecValue': 21, 'electrodeType': 1, 'isOff': False, 'reserved1': 0}, {'elecValue': 21, 'electrodeType': 1, 'isOff': False, 'reserved1': 0}]}, 'isEnabled': 131, 'miscSettings': {'activeRechargeRatio': 0, 'cyclingEnable': False, 'unused': 0, 'unused2': 0}, 'pulseWidth': 85, 'pulseWidthInMicroseconds': 850, 'reserved': [85, 85, 85, 85, 85, 85, 85, 85], 'reserved2': [85, 85, 85, 85, 85, 85, 85, 85, 85, 85, 85, 85, 85, 85, 85, 85, 85, 85, 85, 85, 85, 85, 85, 85, 85, 85, 85, 0, 85, 85, 85, 85, 85, 85, 85, 85, 85, 85, 85, 85, 85, 85, 85, 85, 85, 85, 85, 85, 85, 85, 85, 85, 85, 85, 85, 0], 'reservedRateMult': 85, 'subvalid': False, 'valid': False}, {'amplitude': 85, 'amplitudeInMilliamps': 8.5, 'electrodes': {'electrodes': [{'elecValue': 21, 'electrodeType': 1, 'isOff': False, 'reserved1': 0}, {'elecValue': 21, 'electrodeType': 1, 'isOff': False, 'reserved1': 0}, {'elecValue': 21, 'electrodeType': 1, 'isOff': False, 'reserved1': 0}, {'elecValue': 21, 'electrodeType': 1, 'isOff': False, 'reserved1': 0}, {'elecValue': 21, 'electrodeType': 1, 'isOff': False, 'reserved1': 0}, {'elecValue': 21, 'electrodeType': 1, 'isOff': False, 'reserved1': 0}, {'elecValue': 21, 'electrodeType': 1, 'isOff': False, 'reserved1': 0}, {'elecValue': 21, 'electrodeType': 1, 'isOff': False, 'reserved1': 0}, {'elecValue': 21, 'electrodeType': 1, 'isOff': False, 'reserved1': 0}, {'elecValue': 21, 'electrodeType': 1, 'isOff': False, 'reserved1': 0}, {'elecValue': 21, 'electrodeType': 1, 'isOff': False, 'reserved1': 0}, {'elecValue': 21, 'electrodeType': 1, 'isOff': False, 'reserved1': 0}, {'elecValue': 21, 'electrodeType': 1, 'isOff': False, 'reserved1': 0}, {'elecValue': 21, 'electrodeType': 1, 'isOff': False, 'reserved1': 0}, {'elecValue': 21, 'electrodeType': 1, 'isOff': False, 'reserved1': 0}, {'elecValue': 21, 'electrodeType': 1, 'isOff': False, 'reserved1': 0}, {'elecValue': 21, 'electrodeType': 1, 'isOff': False, 'reserved1': 0}]}, 'isEnabled': 131, 'miscSettings': {'activeRechargeRatio': 0, 'cyclingEnable': False, 'unused': 0, 'unused2': 0}, 'pulseWidth': 85, 'pulseWidthInMicroseconds': 850, 'reserved': [85, 85, 85, 85, 85, 85, 85, 85], 'reserved2': [85, 85, 85, 85, 85, 85, 85, 85, 85, 85, 85, 85, 85, 85, 85, 85, 85, 85, 85, 85, 85, 85, 85, 85, 85, 85, 85, 0, 85, 85, 85, 85, 85, 85, 85, 85, 85, 85, 85, 85, 85, 85, 85, 85, 85, 85, 85, 85, 85, 85, 85, 85, 85, 85, 85, 0], 'reservedRateMult': 85, 'subvalid': False, 'valid': False}], 'pulseWidthLowerLimit': 6, 'pulseWidthLowerLimitInMicroseconds': 60, 'pulseWidthUpperLimit': 6, 'pulseWidthUpperLimitInMicroseconds': 60, 'rampRepeat': 7, 'rampTime': 50, 'rateInHz': 130.2, 'rateLowerLimitInHz': 2, 'ratePeriod': 768, 'ratePeriodLowerLimit': 400, 'ratePeriodUpperLimit': 50000, 'rateUpperLimitInHz': 250, 'reserved1': 0, 'reserved2': 0, 'reserved3': 0, 'valid': True}}\n",
      "{'RecordInfo': {'ApiVer': '1.6.0.0', 'DeviceId': 'NPC700404H', 'HostUnixTime': 1629269956932, 'SessionId': '1629269941495'}, 'AmplitudeLimitsGroup3': {'prog0Lower': 0, 'prog0LowerInMilliamps': 0, 'prog0Upper': 40, 'prog0UpperInMilliamps': 4, 'prog1Lower': 0, 'prog1LowerInMilliamps': 0, 'prog1Upper': 0, 'prog1UpperInMilliamps': 0, 'prog2Lower': 0, 'prog2LowerInMilliamps': 0, 'prog2Upper': 0, 'prog2UpperInMilliamps': 0, 'prog3Lower': 0, 'prog3LowerInMilliamps': 0, 'prog3Upper': 0, 'prog3UpperInMilliamps': 0}}\n",
      "{'RecordInfo': {'ApiVer': '1.6.0.0', 'DeviceId': 'NPC700404H', 'HostUnixTime': 1629270050296, 'SessionId': '1629269941495'}, 'SenseState': {'accelRate': 0, 'fftStreamChannel': 1, 'state': 215}}\n",
      "{'RecordInfo': {'ApiVer': '1.6.0.0', 'DeviceId': 'NPC700404H', 'HostUnixTime': 1629270050420, 'SessionId': '1629269941495'}, 'SenseState': {'accelRate': 0, 'fftStreamChannel': 1, 'state': 215}}\n",
      "{'RecordInfo': {'ApiVer': '1.6.0.0', 'DeviceId': 'NPC700404H', 'HostUnixTime': 1629270050481, 'SessionId': '1629269941495'}, 'StreamState': {'AccelStreamEnabled': True, 'AdaptiveStreamEnabled': True, 'DetectionStreamEnabled': True, 'FftStreamEnabled': False, 'LoopRecordMarkerEchoStreamEnabled': True, 'PowerDomainStreamEnabled': True, 'StreamsEnabled': True, 'TimeDomainStreamEnabled': True, 'TimeSyncStreamEnabled': True}}\n",
      "{'RecordInfo': {'ApiVer': '1.6.0.0', 'DeviceId': 'NPC700404H', 'HostUnixTime': 1629270050584, 'SessionId': '1629269941495'}, 'SenseState': {'accelRate': 0, 'fftStreamChannel': 1, 'state': 215}}\n",
      "{'RecordInfo': {'ApiVer': '1.6.0.0', 'DeviceId': 'NPC700404H', 'HostUnixTime': 1629273510904, 'SessionId': '1629269941495'}, 'GeneralData': {'batteryStatus': 88, 'daysUntilEos': 2446, 'deviceSerialNumber': [78, 80, 67, 55, 48, 48, 52, 48, 52, 72], 'deviceTime': {'seconds': 677379464}, 'hybridSerialNumber': [0, 2, 153, 24, 193, 154], 'implantDate': {'seconds': 605318400}, 'isEos': False, 'isEri': False, 'isInCPSession': False, 'isMriModeOn': False, 'isOvervoltage': False, 'isTherapyUnavailable': False, 'telMDeviceId': [64, 0, 84, 200, 198, 12], 'therapyStatusData': {'activeGroup': 3, 'therapyStatus': 1}, 'type': 1}}\n",
      "{'RecordInfo': {'ApiVer': '1.6.0.0', 'DeviceId': 'NPC700404H', 'HostUnixTime': 1629273511077, 'SessionId': '1629269941495'}, 'TherapyConfigGroup0': {'Index': 0, 'amplitudeResolution0_2mA': 0, 'cycleOffTime': {'time': 10, 'units': 0}, 'cycleOnTime': {'time': 10, 'units': 0}, 'cyclingEnabled': False, 'mode': 1, 'programs': [{'amplitude': 27, 'amplitudeInMilliamps': 2.7, 'electrodes': {'electrodes': [{'elecValue': 63, 'electrodeType': 1, 'isOff': True, 'reserved1': 1}, {'elecValue': 63, 'electrodeType': 0, 'isOff': False, 'reserved1': 0}, {'elecValue': 63, 'electrodeType': 1, 'isOff': True, 'reserved1': 1}, {'elecValue': 63, 'electrodeType': 1, 'isOff': True, 'reserved1': 1}, {'elecValue': 63, 'electrodeType': 1, 'isOff': True, 'reserved1': 1}, {'elecValue': 63, 'electrodeType': 1, 'isOff': True, 'reserved1': 1}, {'elecValue': 63, 'electrodeType': 1, 'isOff': True, 'reserved1': 1}, {'elecValue': 63, 'electrodeType': 1, 'isOff': True, 'reserved1': 1}, {'elecValue': 63, 'electrodeType': 1, 'isOff': True, 'reserved1': 1}, {'elecValue': 63, 'electrodeType': 1, 'isOff': True, 'reserved1': 1}, {'elecValue': 63, 'electrodeType': 1, 'isOff': True, 'reserved1': 1}, {'elecValue': 63, 'electrodeType': 1, 'isOff': True, 'reserved1': 1}, {'elecValue': 63, 'electrodeType': 1, 'isOff': True, 'reserved1': 1}, {'elecValue': 63, 'electrodeType': 1, 'isOff': True, 'reserved1': 1}, {'elecValue': 63, 'electrodeType': 1, 'isOff': True, 'reserved1': 1}, {'elecValue': 63, 'electrodeType': 1, 'isOff': True, 'reserved1': 1}, {'elecValue': 63, 'electrodeType': 1, 'isOff': False, 'reserved1': 0}]}, 'isEnabled': 0, 'miscSettings': {'activeRechargeRatio': 0, 'cyclingEnable': False, 'unused': 0, 'unused2': 0}, 'pulseWidth': 6, 'pulseWidthInMicroseconds': 60, 'reserved': [0, 0, 0, 0, 0, 0, 0, 0], 'reserved2': [85, 85, 85, 85, 85, 85, 85, 85, 85, 85, 85, 85, 85, 85, 85, 85, 85, 85, 85, 85, 85, 85, 85, 85, 85, 85, 85, 0, 85, 85, 85, 85, 85, 85, 85, 85, 85, 85, 85, 85, 85, 85, 85, 85, 85, 85, 85, 85, 85, 85, 85, 85, 85, 85, 85, 0], 'reservedRateMult': 1, 'subvalid': True, 'valid': True}, {'amplitude': 85, 'amplitudeInMilliamps': 8.5, 'electrodes': {'electrodes': [{'elecValue': 21, 'electrodeType': 1, 'isOff': False, 'reserved1': 0}, {'elecValue': 21, 'electrodeType': 1, 'isOff': False, 'reserved1': 0}, {'elecValue': 21, 'electrodeType': 1, 'isOff': False, 'reserved1': 0}, {'elecValue': 21, 'electrodeType': 1, 'isOff': False, 'reserved1': 0}, {'elecValue': 21, 'electrodeType': 1, 'isOff': False, 'reserved1': 0}, {'elecValue': 21, 'electrodeType': 1, 'isOff': False, 'reserved1': 0}, {'elecValue': 21, 'electrodeType': 1, 'isOff': False, 'reserved1': 0}, {'elecValue': 21, 'electrodeType': 1, 'isOff': False, 'reserved1': 0}, {'elecValue': 21, 'electrodeType': 1, 'isOff': False, 'reserved1': 0}, {'elecValue': 21, 'electrodeType': 1, 'isOff': False, 'reserved1': 0}, {'elecValue': 21, 'electrodeType': 1, 'isOff': False, 'reserved1': 0}, {'elecValue': 21, 'electrodeType': 1, 'isOff': False, 'reserved1': 0}, {'elecValue': 21, 'electrodeType': 1, 'isOff': False, 'reserved1': 0}, {'elecValue': 21, 'electrodeType': 1, 'isOff': False, 'reserved1': 0}, {'elecValue': 21, 'electrodeType': 1, 'isOff': False, 'reserved1': 0}, {'elecValue': 21, 'electrodeType': 1, 'isOff': False, 'reserved1': 0}, {'elecValue': 21, 'electrodeType': 1, 'isOff': False, 'reserved1': 0}]}, 'isEnabled': 131, 'miscSettings': {'activeRechargeRatio': 0, 'cyclingEnable': False, 'unused': 0, 'unused2': 0}, 'pulseWidth': 85, 'pulseWidthInMicroseconds': 850, 'reserved': [85, 85, 85, 85, 85, 85, 85, 85], 'reserved2': [85, 85, 85, 85, 85, 85, 85, 85, 85, 85, 85, 85, 85, 85, 85, 85, 85, 85, 85, 85, 85, 85, 85, 85, 85, 85, 85, 0, 85, 85, 85, 85, 85, 85, 85, 85, 85, 85, 85, 85, 85, 85, 85, 85, 85, 85, 85, 85, 85, 85, 85, 85, 85, 85, 85, 0], 'reservedRateMult': 85, 'subvalid': False, 'valid': False}, {'amplitude': 85, 'amplitudeInMilliamps': 8.5, 'electrodes': {'electrodes': [{'elecValue': 21, 'electrodeType': 1, 'isOff': False, 'reserved1': 0}, {'elecValue': 21, 'electrodeType': 1, 'isOff': False, 'reserved1': 0}, {'elecValue': 21, 'electrodeType': 1, 'isOff': False, 'reserved1': 0}, {'elecValue': 21, 'electrodeType': 1, 'isOff': False, 'reserved1': 0}, {'elecValue': 21, 'electrodeType': 1, 'isOff': False, 'reserved1': 0}, {'elecValue': 21, 'electrodeType': 1, 'isOff': False, 'reserved1': 0}, {'elecValue': 21, 'electrodeType': 1, 'isOff': False, 'reserved1': 0}, {'elecValue': 21, 'electrodeType': 1, 'isOff': False, 'reserved1': 0}, {'elecValue': 21, 'electrodeType': 1, 'isOff': False, 'reserved1': 0}, {'elecValue': 21, 'electrodeType': 1, 'isOff': False, 'reserved1': 0}, {'elecValue': 21, 'electrodeType': 1, 'isOff': False, 'reserved1': 0}, {'elecValue': 21, 'electrodeType': 1, 'isOff': False, 'reserved1': 0}, {'elecValue': 21, 'electrodeType': 1, 'isOff': False, 'reserved1': 0}, {'elecValue': 21, 'electrodeType': 1, 'isOff': False, 'reserved1': 0}, {'elecValue': 21, 'electrodeType': 1, 'isOff': False, 'reserved1': 0}, {'elecValue': 21, 'electrodeType': 1, 'isOff': False, 'reserved1': 0}, {'elecValue': 21, 'electrodeType': 1, 'isOff': False, 'reserved1': 0}]}, 'isEnabled': 131, 'miscSettings': {'activeRechargeRatio': 0, 'cyclingEnable': False, 'unused': 0, 'unused2': 0}, 'pulseWidth': 85, 'pulseWidthInMicroseconds': 850, 'reserved': [85, 85, 85, 85, 85, 85, 85, 85], 'reserved2': [85, 85, 85, 85, 85, 85, 85, 85, 85, 85, 85, 85, 85, 85, 85, 85, 85, 85, 85, 85, 85, 85, 85, 85, 85, 85, 85, 0, 85, 85, 85, 85, 85, 85, 85, 85, 85, 85, 85, 85, 85, 85, 85, 85, 85, 85, 85, 85, 85, 85, 85, 85, 85, 85, 85, 0], 'reservedRateMult': 85, 'subvalid': False, 'valid': False}, {'amplitude': 85, 'amplitudeInMilliamps': 8.5, 'electrodes': {'electrodes': [{'elecValue': 21, 'electrodeType': 1, 'isOff': False, 'reserved1': 0}, {'elecValue': 21, 'electrodeType': 1, 'isOff': False, 'reserved1': 0}, {'elecValue': 21, 'electrodeType': 1, 'isOff': False, 'reserved1': 0}, {'elecValue': 21, 'electrodeType': 1, 'isOff': False, 'reserved1': 0}, {'elecValue': 21, 'electrodeType': 1, 'isOff': False, 'reserved1': 0}, {'elecValue': 21, 'electrodeType': 1, 'isOff': False, 'reserved1': 0}, {'elecValue': 21, 'electrodeType': 1, 'isOff': False, 'reserved1': 0}, {'elecValue': 21, 'electrodeType': 1, 'isOff': False, 'reserved1': 0}, {'elecValue': 21, 'electrodeType': 1, 'isOff': False, 'reserved1': 0}, {'elecValue': 21, 'electrodeType': 1, 'isOff': False, 'reserved1': 0}, {'elecValue': 21, 'electrodeType': 1, 'isOff': False, 'reserved1': 0}, {'elecValue': 21, 'electrodeType': 1, 'isOff': False, 'reserved1': 0}, {'elecValue': 21, 'electrodeType': 1, 'isOff': False, 'reserved1': 0}, {'elecValue': 21, 'electrodeType': 1, 'isOff': False, 'reserved1': 0}, {'elecValue': 21, 'electrodeType': 1, 'isOff': False, 'reserved1': 0}, {'elecValue': 21, 'electrodeType': 1, 'isOff': False, 'reserved1': 0}, {'elecValue': 21, 'electrodeType': 1, 'isOff': False, 'reserved1': 0}]}, 'isEnabled': 131, 'miscSettings': {'activeRechargeRatio': 0, 'cyclingEnable': False, 'unused': 0, 'unused2': 0}, 'pulseWidth': 85, 'pulseWidthInMicroseconds': 850, 'reserved': [85, 85, 85, 85, 85, 85, 85, 85], 'reserved2': [85, 85, 85, 85, 85, 85, 85, 85, 85, 85, 85, 85, 85, 85, 85, 85, 85, 85, 85, 85, 85, 85, 85, 85, 85, 85, 85, 0, 85, 85, 85, 85, 85, 85, 85, 85, 85, 85, 85, 85, 85, 85, 85, 85, 85, 85, 85, 85, 85, 85, 85, 85, 85, 85, 85, 0], 'reservedRateMult': 85, 'subvalid': False, 'valid': False}], 'pulseWidthLowerLimit': 6, 'pulseWidthLowerLimitInMicroseconds': 60, 'pulseWidthUpperLimit': 12, 'pulseWidthUpperLimitInMicroseconds': 120, 'rampRepeat': 7, 'rampTime': 50, 'rateInHz': 130.2, 'rateLowerLimitInHz': 2, 'ratePeriod': 768, 'ratePeriodLowerLimit': 490, 'ratePeriodUpperLimit': 50000, 'rateUpperLimitInHz': 204.1, 'reserved1': 0, 'reserved2': 0, 'reserved3': 0, 'valid': True}}\n",
      "{'RecordInfo': {'ApiVer': '1.6.0.0', 'DeviceId': 'NPC700404H', 'HostUnixTime': 1629273511211, 'SessionId': '1629269941495'}, 'TherapyConfigGroup1': {'Index': 16, 'amplitudeResolution0_2mA': 16, 'cycleOffTime': {'time': 10, 'units': 0}, 'cycleOnTime': {'time': 10, 'units': 0}, 'cyclingEnabled': False, 'mode': 1, 'programs': [{'amplitude': 27, 'amplitudeInMilliamps': 2.7, 'electrodes': {'electrodes': [{'elecValue': 63, 'electrodeType': 1, 'isOff': True, 'reserved1': 1}, {'elecValue': 63, 'electrodeType': 0, 'isOff': False, 'reserved1': 0}, {'elecValue': 63, 'electrodeType': 1, 'isOff': True, 'reserved1': 1}, {'elecValue': 63, 'electrodeType': 1, 'isOff': True, 'reserved1': 1}, {'elecValue': 63, 'electrodeType': 1, 'isOff': True, 'reserved1': 1}, {'elecValue': 63, 'electrodeType': 1, 'isOff': True, 'reserved1': 1}, {'elecValue': 63, 'electrodeType': 1, 'isOff': True, 'reserved1': 1}, {'elecValue': 63, 'electrodeType': 1, 'isOff': True, 'reserved1': 1}, {'elecValue': 63, 'electrodeType': 1, 'isOff': True, 'reserved1': 1}, {'elecValue': 63, 'electrodeType': 1, 'isOff': True, 'reserved1': 1}, {'elecValue': 63, 'electrodeType': 1, 'isOff': True, 'reserved1': 1}, {'elecValue': 63, 'electrodeType': 1, 'isOff': True, 'reserved1': 1}, {'elecValue': 63, 'electrodeType': 1, 'isOff': True, 'reserved1': 1}, {'elecValue': 63, 'electrodeType': 1, 'isOff': True, 'reserved1': 1}, {'elecValue': 63, 'electrodeType': 1, 'isOff': True, 'reserved1': 1}, {'elecValue': 63, 'electrodeType': 1, 'isOff': True, 'reserved1': 1}, {'elecValue': 63, 'electrodeType': 1, 'isOff': False, 'reserved1': 0}]}, 'isEnabled': 0, 'miscSettings': {'activeRechargeRatio': 10, 'cyclingEnable': False, 'unused': 0, 'unused2': 0}, 'pulseWidth': 6, 'pulseWidthInMicroseconds': 60, 'reserved': [0, 0, 0, 0, 0, 0, 0, 0], 'reserved2': [85, 85, 85, 85, 85, 85, 85, 85, 85, 85, 85, 85, 85, 85, 85, 85, 85, 85, 85, 85, 85, 85, 85, 85, 85, 85, 85, 0, 85, 85, 85, 85, 85, 85, 85, 85, 85, 85, 85, 85, 85, 85, 85, 85, 85, 85, 85, 85, 85, 85, 85, 85, 85, 85, 85, 0], 'reservedRateMult': 1, 'subvalid': True, 'valid': True}, {'amplitude': 85, 'amplitudeInMilliamps': 8.5, 'electrodes': {'electrodes': [{'elecValue': 21, 'electrodeType': 1, 'isOff': False, 'reserved1': 0}, {'elecValue': 21, 'electrodeType': 1, 'isOff': False, 'reserved1': 0}, {'elecValue': 21, 'electrodeType': 1, 'isOff': False, 'reserved1': 0}, {'elecValue': 21, 'electrodeType': 1, 'isOff': False, 'reserved1': 0}, {'elecValue': 21, 'electrodeType': 1, 'isOff': False, 'reserved1': 0}, {'elecValue': 21, 'electrodeType': 1, 'isOff': False, 'reserved1': 0}, {'elecValue': 21, 'electrodeType': 1, 'isOff': False, 'reserved1': 0}, {'elecValue': 21, 'electrodeType': 1, 'isOff': False, 'reserved1': 0}, {'elecValue': 21, 'electrodeType': 1, 'isOff': False, 'reserved1': 0}, {'elecValue': 21, 'electrodeType': 1, 'isOff': False, 'reserved1': 0}, {'elecValue': 21, 'electrodeType': 1, 'isOff': False, 'reserved1': 0}, {'elecValue': 21, 'electrodeType': 1, 'isOff': False, 'reserved1': 0}, {'elecValue': 21, 'electrodeType': 1, 'isOff': False, 'reserved1': 0}, {'elecValue': 21, 'electrodeType': 1, 'isOff': False, 'reserved1': 0}, {'elecValue': 21, 'electrodeType': 1, 'isOff': False, 'reserved1': 0}, {'elecValue': 21, 'electrodeType': 1, 'isOff': False, 'reserved1': 0}, {'elecValue': 21, 'electrodeType': 1, 'isOff': False, 'reserved1': 0}]}, 'isEnabled': 131, 'miscSettings': {'activeRechargeRatio': 0, 'cyclingEnable': False, 'unused': 0, 'unused2': 0}, 'pulseWidth': 85, 'pulseWidthInMicroseconds': 850, 'reserved': [85, 85, 85, 85, 85, 85, 85, 85], 'reserved2': [85, 85, 85, 85, 85, 85, 85, 85, 85, 85, 85, 85, 85, 85, 85, 85, 85, 85, 85, 85, 85, 85, 85, 85, 85, 85, 85, 0, 85, 85, 85, 85, 85, 85, 85, 85, 85, 85, 85, 85, 85, 85, 85, 85, 85, 85, 85, 85, 85, 85, 85, 85, 85, 85, 85, 0], 'reservedRateMult': 85, 'subvalid': False, 'valid': False}, {'amplitude': 85, 'amplitudeInMilliamps': 8.5, 'electrodes': {'electrodes': [{'elecValue': 21, 'electrodeType': 1, 'isOff': False, 'reserved1': 0}, {'elecValue': 21, 'electrodeType': 1, 'isOff': False, 'reserved1': 0}, {'elecValue': 21, 'electrodeType': 1, 'isOff': False, 'reserved1': 0}, {'elecValue': 21, 'electrodeType': 1, 'isOff': False, 'reserved1': 0}, {'elecValue': 21, 'electrodeType': 1, 'isOff': False, 'reserved1': 0}, {'elecValue': 21, 'electrodeType': 1, 'isOff': False, 'reserved1': 0}, {'elecValue': 21, 'electrodeType': 1, 'isOff': False, 'reserved1': 0}, {'elecValue': 21, 'electrodeType': 1, 'isOff': False, 'reserved1': 0}, {'elecValue': 21, 'electrodeType': 1, 'isOff': False, 'reserved1': 0}, {'elecValue': 21, 'electrodeType': 1, 'isOff': False, 'reserved1': 0}, {'elecValue': 21, 'electrodeType': 1, 'isOff': False, 'reserved1': 0}, {'elecValue': 21, 'electrodeType': 1, 'isOff': False, 'reserved1': 0}, {'elecValue': 21, 'electrodeType': 1, 'isOff': False, 'reserved1': 0}, {'elecValue': 21, 'electrodeType': 1, 'isOff': False, 'reserved1': 0}, {'elecValue': 21, 'electrodeType': 1, 'isOff': False, 'reserved1': 0}, {'elecValue': 21, 'electrodeType': 1, 'isOff': False, 'reserved1': 0}, {'elecValue': 21, 'electrodeType': 1, 'isOff': False, 'reserved1': 0}]}, 'isEnabled': 131, 'miscSettings': {'activeRechargeRatio': 0, 'cyclingEnable': False, 'unused': 0, 'unused2': 0}, 'pulseWidth': 85, 'pulseWidthInMicroseconds': 850, 'reserved': [85, 85, 85, 85, 85, 85, 85, 85], 'reserved2': [85, 85, 85, 85, 85, 85, 85, 85, 85, 85, 85, 85, 85, 85, 85, 85, 85, 85, 85, 85, 85, 85, 85, 85, 85, 85, 85, 0, 85, 85, 85, 85, 85, 85, 85, 85, 85, 85, 85, 85, 85, 85, 85, 85, 85, 85, 85, 85, 85, 85, 85, 85, 85, 85, 85, 0], 'reservedRateMult': 85, 'subvalid': False, 'valid': False}, {'amplitude': 85, 'amplitudeInMilliamps': 8.5, 'electrodes': {'electrodes': [{'elecValue': 21, 'electrodeType': 1, 'isOff': False, 'reserved1': 0}, {'elecValue': 21, 'electrodeType': 1, 'isOff': False, 'reserved1': 0}, {'elecValue': 21, 'electrodeType': 1, 'isOff': False, 'reserved1': 0}, {'elecValue': 21, 'electrodeType': 1, 'isOff': False, 'reserved1': 0}, {'elecValue': 21, 'electrodeType': 1, 'isOff': False, 'reserved1': 0}, {'elecValue': 21, 'electrodeType': 1, 'isOff': False, 'reserved1': 0}, {'elecValue': 21, 'electrodeType': 1, 'isOff': False, 'reserved1': 0}, {'elecValue': 21, 'electrodeType': 1, 'isOff': False, 'reserved1': 0}, {'elecValue': 21, 'electrodeType': 1, 'isOff': False, 'reserved1': 0}, {'elecValue': 21, 'electrodeType': 1, 'isOff': False, 'reserved1': 0}, {'elecValue': 21, 'electrodeType': 1, 'isOff': False, 'reserved1': 0}, {'elecValue': 21, 'electrodeType': 1, 'isOff': False, 'reserved1': 0}, {'elecValue': 21, 'electrodeType': 1, 'isOff': False, 'reserved1': 0}, {'elecValue': 21, 'electrodeType': 1, 'isOff': False, 'reserved1': 0}, {'elecValue': 21, 'electrodeType': 1, 'isOff': False, 'reserved1': 0}, {'elecValue': 21, 'electrodeType': 1, 'isOff': False, 'reserved1': 0}, {'elecValue': 21, 'electrodeType': 1, 'isOff': False, 'reserved1': 0}]}, 'isEnabled': 131, 'miscSettings': {'activeRechargeRatio': 0, 'cyclingEnable': False, 'unused': 0, 'unused2': 0}, 'pulseWidth': 85, 'pulseWidthInMicroseconds': 850, 'reserved': [85, 85, 85, 85, 85, 85, 85, 85], 'reserved2': [85, 85, 85, 85, 85, 85, 85, 85, 85, 85, 85, 85, 85, 85, 85, 85, 85, 85, 85, 85, 85, 85, 85, 85, 85, 85, 85, 0, 85, 85, 85, 85, 85, 85, 85, 85, 85, 85, 85, 85, 85, 85, 85, 85, 85, 85, 85, 85, 85, 85, 85, 85, 85, 85, 85, 0], 'reservedRateMult': 85, 'subvalid': False, 'valid': False}], 'pulseWidthLowerLimit': 6, 'pulseWidthLowerLimitInMicroseconds': 60, 'pulseWidthUpperLimit': 10, 'pulseWidthUpperLimitInMicroseconds': 100, 'rampRepeat': 7, 'rampTime': 50, 'rateInHz': 130.2, 'rateLowerLimitInHz': 2, 'ratePeriod': 768, 'ratePeriodLowerLimit': 768, 'ratePeriodUpperLimit': 50000, 'rateUpperLimitInHz': 130.2, 'reserved1': 0, 'reserved2': 0, 'reserved3': 0, 'valid': True}}\n",
      "{'RecordInfo': {'ApiVer': '1.6.0.0', 'DeviceId': 'NPC700404H', 'HostUnixTime': 1629273511397, 'SessionId': '1629269941495'}, 'TherapyConfigGroup2': {'Index': 80, 'amplitudeResolution0_2mA': 85, 'cycleOffTime': {'time': 5461, 'units': 1}, 'cycleOnTime': {'time': 5461, 'units': 1}, 'cyclingEnabled': False, 'mode': 1, 'programs': [{'amplitude': 85, 'amplitudeInMilliamps': 8.5, 'electrodes': {'electrodes': [{'elecValue': 21, 'electrodeType': 1, 'isOff': False, 'reserved1': 0}, {'elecValue': 21, 'electrodeType': 1, 'isOff': False, 'reserved1': 0}, {'elecValue': 21, 'electrodeType': 1, 'isOff': False, 'reserved1': 0}, {'elecValue': 21, 'electrodeType': 1, 'isOff': False, 'reserved1': 0}, {'elecValue': 21, 'electrodeType': 1, 'isOff': False, 'reserved1': 0}, {'elecValue': 21, 'electrodeType': 1, 'isOff': False, 'reserved1': 0}, {'elecValue': 21, 'electrodeType': 1, 'isOff': False, 'reserved1': 0}, {'elecValue': 21, 'electrodeType': 1, 'isOff': False, 'reserved1': 0}, {'elecValue': 21, 'electrodeType': 1, 'isOff': False, 'reserved1': 0}, {'elecValue': 21, 'electrodeType': 1, 'isOff': False, 'reserved1': 0}, {'elecValue': 21, 'electrodeType': 1, 'isOff': False, 'reserved1': 0}, {'elecValue': 21, 'electrodeType': 1, 'isOff': False, 'reserved1': 0}, {'elecValue': 21, 'electrodeType': 1, 'isOff': False, 'reserved1': 0}, {'elecValue': 21, 'electrodeType': 1, 'isOff': False, 'reserved1': 0}, {'elecValue': 21, 'electrodeType': 1, 'isOff': False, 'reserved1': 0}, {'elecValue': 21, 'electrodeType': 1, 'isOff': False, 'reserved1': 0}, {'elecValue': 21, 'electrodeType': 1, 'isOff': False, 'reserved1': 0}]}, 'isEnabled': 131, 'miscSettings': {'activeRechargeRatio': 0, 'cyclingEnable': False, 'unused': 0, 'unused2': 0}, 'pulseWidth': 85, 'pulseWidthInMicroseconds': 850, 'reserved': [85, 85, 85, 85, 85, 85, 85, 85], 'reserved2': [85, 85, 85, 85, 85, 85, 85, 85, 85, 85, 85, 85, 85, 85, 85, 85, 85, 85, 85, 85, 85, 85, 85, 85, 85, 85, 85, 0, 85, 85, 85, 85, 85, 85, 85, 85, 85, 85, 85, 85, 85, 85, 85, 85, 85, 85, 85, 85, 85, 85, 85, 85, 85, 85, 85, 0], 'reservedRateMult': 85, 'subvalid': False, 'valid': False}, {'amplitude': 85, 'amplitudeInMilliamps': 8.5, 'electrodes': {'electrodes': [{'elecValue': 21, 'electrodeType': 1, 'isOff': False, 'reserved1': 0}, {'elecValue': 21, 'electrodeType': 1, 'isOff': False, 'reserved1': 0}, {'elecValue': 21, 'electrodeType': 1, 'isOff': False, 'reserved1': 0}, {'elecValue': 21, 'electrodeType': 1, 'isOff': False, 'reserved1': 0}, {'elecValue': 21, 'electrodeType': 1, 'isOff': False, 'reserved1': 0}, {'elecValue': 21, 'electrodeType': 1, 'isOff': False, 'reserved1': 0}, {'elecValue': 21, 'electrodeType': 1, 'isOff': False, 'reserved1': 0}, {'elecValue': 21, 'electrodeType': 1, 'isOff': False, 'reserved1': 0}, {'elecValue': 21, 'electrodeType': 1, 'isOff': False, 'reserved1': 0}, {'elecValue': 21, 'electrodeType': 1, 'isOff': False, 'reserved1': 0}, {'elecValue': 21, 'electrodeType': 1, 'isOff': False, 'reserved1': 0}, {'elecValue': 21, 'electrodeType': 1, 'isOff': False, 'reserved1': 0}, {'elecValue': 21, 'electrodeType': 1, 'isOff': False, 'reserved1': 0}, {'elecValue': 21, 'electrodeType': 1, 'isOff': False, 'reserved1': 0}, {'elecValue': 21, 'electrodeType': 1, 'isOff': False, 'reserved1': 0}, {'elecValue': 21, 'electrodeType': 1, 'isOff': False, 'reserved1': 0}, {'elecValue': 21, 'electrodeType': 1, 'isOff': False, 'reserved1': 0}]}, 'isEnabled': 131, 'miscSettings': {'activeRechargeRatio': 0, 'cyclingEnable': False, 'unused': 0, 'unused2': 0}, 'pulseWidth': 85, 'pulseWidthInMicroseconds': 850, 'reserved': [85, 85, 85, 85, 85, 85, 85, 85], 'reserved2': [85, 85, 85, 85, 85, 85, 85, 85, 85, 85, 85, 85, 85, 85, 85, 85, 85, 85, 85, 85, 85, 85, 85, 85, 85, 85, 85, 0, 85, 85, 85, 85, 85, 85, 85, 85, 85, 85, 85, 85, 85, 85, 85, 85, 85, 85, 85, 85, 85, 85, 85, 85, 85, 85, 85, 0], 'reservedRateMult': 85, 'subvalid': False, 'valid': False}, {'amplitude': 85, 'amplitudeInMilliamps': 8.5, 'electrodes': {'electrodes': [{'elecValue': 21, 'electrodeType': 1, 'isOff': False, 'reserved1': 0}, {'elecValue': 21, 'electrodeType': 1, 'isOff': False, 'reserved1': 0}, {'elecValue': 21, 'electrodeType': 1, 'isOff': False, 'reserved1': 0}, {'elecValue': 21, 'electrodeType': 1, 'isOff': False, 'reserved1': 0}, {'elecValue': 21, 'electrodeType': 1, 'isOff': False, 'reserved1': 0}, {'elecValue': 21, 'electrodeType': 1, 'isOff': False, 'reserved1': 0}, {'elecValue': 21, 'electrodeType': 1, 'isOff': False, 'reserved1': 0}, {'elecValue': 21, 'electrodeType': 1, 'isOff': False, 'reserved1': 0}, {'elecValue': 21, 'electrodeType': 1, 'isOff': False, 'reserved1': 0}, {'elecValue': 21, 'electrodeType': 1, 'isOff': False, 'reserved1': 0}, {'elecValue': 21, 'electrodeType': 1, 'isOff': False, 'reserved1': 0}, {'elecValue': 21, 'electrodeType': 1, 'isOff': False, 'reserved1': 0}, {'elecValue': 21, 'electrodeType': 1, 'isOff': False, 'reserved1': 0}, {'elecValue': 21, 'electrodeType': 1, 'isOff': False, 'reserved1': 0}, {'elecValue': 21, 'electrodeType': 1, 'isOff': False, 'reserved1': 0}, {'elecValue': 21, 'electrodeType': 1, 'isOff': False, 'reserved1': 0}, {'elecValue': 21, 'electrodeType': 1, 'isOff': False, 'reserved1': 0}]}, 'isEnabled': 131, 'miscSettings': {'activeRechargeRatio': 0, 'cyclingEnable': False, 'unused': 0, 'unused2': 0}, 'pulseWidth': 85, 'pulseWidthInMicroseconds': 850, 'reserved': [85, 85, 85, 85, 85, 85, 85, 85], 'reserved2': [85, 85, 85, 85, 85, 85, 85, 85, 85, 85, 85, 85, 85, 85, 85, 85, 85, 85, 85, 85, 85, 85, 85, 85, 85, 85, 85, 0, 85, 85, 85, 85, 85, 85, 85, 85, 85, 85, 85, 85, 85, 85, 85, 85, 85, 85, 85, 85, 85, 85, 85, 85, 85, 85, 85, 0], 'reservedRateMult': 85, 'subvalid': False, 'valid': False}, {'amplitude': 85, 'amplitudeInMilliamps': 8.5, 'electrodes': {'electrodes': [{'elecValue': 21, 'electrodeType': 1, 'isOff': False, 'reserved1': 0}, {'elecValue': 21, 'electrodeType': 1, 'isOff': False, 'reserved1': 0}, {'elecValue': 21, 'electrodeType': 1, 'isOff': False, 'reserved1': 0}, {'elecValue': 21, 'electrodeType': 1, 'isOff': False, 'reserved1': 0}, {'elecValue': 21, 'electrodeType': 1, 'isOff': False, 'reserved1': 0}, {'elecValue': 21, 'electrodeType': 1, 'isOff': False, 'reserved1': 0}, {'elecValue': 21, 'electrodeType': 1, 'isOff': False, 'reserved1': 0}, {'elecValue': 21, 'electrodeType': 1, 'isOff': False, 'reserved1': 0}, {'elecValue': 21, 'electrodeType': 1, 'isOff': False, 'reserved1': 0}, {'elecValue': 21, 'electrodeType': 1, 'isOff': False, 'reserved1': 0}, {'elecValue': 21, 'electrodeType': 1, 'isOff': False, 'reserved1': 0}, {'elecValue': 21, 'electrodeType': 1, 'isOff': False, 'reserved1': 0}, {'elecValue': 21, 'electrodeType': 1, 'isOff': False, 'reserved1': 0}, {'elecValue': 21, 'electrodeType': 1, 'isOff': False, 'reserved1': 0}, {'elecValue': 21, 'electrodeType': 1, 'isOff': False, 'reserved1': 0}, {'elecValue': 21, 'electrodeType': 1, 'isOff': False, 'reserved1': 0}, {'elecValue': 21, 'electrodeType': 1, 'isOff': False, 'reserved1': 0}]}, 'isEnabled': 131, 'miscSettings': {'activeRechargeRatio': 0, 'cyclingEnable': False, 'unused': 0, 'unused2': 0}, 'pulseWidth': 85, 'pulseWidthInMicroseconds': 850, 'reserved': [85, 85, 85, 85, 85, 85, 85, 85], 'reserved2': [85, 85, 85, 85, 85, 85, 85, 85, 85, 85, 85, 85, 85, 85, 85, 85, 85, 85, 85, 85, 85, 85, 85, 85, 85, 85, 85, 0, 85, 85, 85, 85, 85, 85, 85, 85, 85, 85, 85, 85, 85, 85, 85, 85, 85, 85, 85, 85, 85, 85, 85, 85, 85, 85, 85, 0], 'reservedRateMult': 85, 'subvalid': False, 'valid': False}], 'pulseWidthLowerLimit': 85, 'pulseWidthLowerLimitInMicroseconds': 850, 'pulseWidthUpperLimit': 85, 'pulseWidthUpperLimitInMicroseconds': 850, 'rampRepeat': 85, 'rampTime': 85, 'rateInHz': 4.6, 'rateLowerLimitInHz': 4.6, 'ratePeriod': 21845, 'ratePeriodLowerLimit': 21845, 'ratePeriodUpperLimit': 21845, 'rateUpperLimitInHz': 4.6, 'reserved1': 85, 'reserved2': 85, 'reserved3': 85, 'valid': False}}\n",
      "{'RecordInfo': {'ApiVer': '1.6.0.0', 'DeviceId': 'NPC700404H', 'HostUnixTime': 1629273511576, 'SessionId': '1629269941495'}, 'TherapyConfigGroup3': {'Index': 48, 'amplitudeResolution0_2mA': 48, 'cycleOffTime': {'time': 10, 'units': 0}, 'cycleOnTime': {'time': 10, 'units': 0}, 'cyclingEnabled': False, 'mode': 1, 'programs': [{'amplitude': 27, 'amplitudeInMilliamps': 2.7, 'electrodes': {'electrodes': [{'elecValue': 63, 'electrodeType': 1, 'isOff': True, 'reserved1': 1}, {'elecValue': 63, 'electrodeType': 0, 'isOff': False, 'reserved1': 0}, {'elecValue': 63, 'electrodeType': 1, 'isOff': True, 'reserved1': 1}, {'elecValue': 63, 'electrodeType': 1, 'isOff': True, 'reserved1': 1}, {'elecValue': 63, 'electrodeType': 1, 'isOff': True, 'reserved1': 1}, {'elecValue': 63, 'electrodeType': 1, 'isOff': True, 'reserved1': 1}, {'elecValue': 63, 'electrodeType': 1, 'isOff': True, 'reserved1': 1}, {'elecValue': 63, 'electrodeType': 1, 'isOff': True, 'reserved1': 1}, {'elecValue': 63, 'electrodeType': 1, 'isOff': True, 'reserved1': 1}, {'elecValue': 63, 'electrodeType': 1, 'isOff': True, 'reserved1': 1}, {'elecValue': 63, 'electrodeType': 1, 'isOff': True, 'reserved1': 1}, {'elecValue': 63, 'electrodeType': 1, 'isOff': True, 'reserved1': 1}, {'elecValue': 63, 'electrodeType': 1, 'isOff': True, 'reserved1': 1}, {'elecValue': 63, 'electrodeType': 1, 'isOff': True, 'reserved1': 1}, {'elecValue': 63, 'electrodeType': 1, 'isOff': True, 'reserved1': 1}, {'elecValue': 63, 'electrodeType': 1, 'isOff': True, 'reserved1': 1}, {'elecValue': 63, 'electrodeType': 1, 'isOff': False, 'reserved1': 0}]}, 'isEnabled': 0, 'miscSettings': {'activeRechargeRatio': 10, 'cyclingEnable': False, 'unused': 0, 'unused2': 0}, 'pulseWidth': 6, 'pulseWidthInMicroseconds': 60, 'reserved': [0, 0, 0, 0, 0, 0, 0, 0], 'reserved2': [85, 85, 85, 85, 85, 85, 85, 85, 85, 85, 85, 85, 85, 85, 85, 85, 85, 85, 85, 85, 85, 85, 85, 85, 85, 85, 85, 0, 85, 85, 85, 85, 85, 85, 85, 85, 85, 85, 85, 85, 85, 85, 85, 85, 85, 85, 85, 85, 85, 85, 85, 85, 85, 85, 85, 0], 'reservedRateMult': 1, 'subvalid': True, 'valid': True}, {'amplitude': 85, 'amplitudeInMilliamps': 8.5, 'electrodes': {'electrodes': [{'elecValue': 21, 'electrodeType': 1, 'isOff': False, 'reserved1': 0}, {'elecValue': 21, 'electrodeType': 1, 'isOff': False, 'reserved1': 0}, {'elecValue': 21, 'electrodeType': 1, 'isOff': False, 'reserved1': 0}, {'elecValue': 21, 'electrodeType': 1, 'isOff': False, 'reserved1': 0}, {'elecValue': 21, 'electrodeType': 1, 'isOff': False, 'reserved1': 0}, {'elecValue': 21, 'electrodeType': 1, 'isOff': False, 'reserved1': 0}, {'elecValue': 21, 'electrodeType': 1, 'isOff': False, 'reserved1': 0}, {'elecValue': 21, 'electrodeType': 1, 'isOff': False, 'reserved1': 0}, {'elecValue': 21, 'electrodeType': 1, 'isOff': False, 'reserved1': 0}, {'elecValue': 21, 'electrodeType': 1, 'isOff': False, 'reserved1': 0}, {'elecValue': 21, 'electrodeType': 1, 'isOff': False, 'reserved1': 0}, {'elecValue': 21, 'electrodeType': 1, 'isOff': False, 'reserved1': 0}, {'elecValue': 21, 'electrodeType': 1, 'isOff': False, 'reserved1': 0}, {'elecValue': 21, 'electrodeType': 1, 'isOff': False, 'reserved1': 0}, {'elecValue': 21, 'electrodeType': 1, 'isOff': False, 'reserved1': 0}, {'elecValue': 21, 'electrodeType': 1, 'isOff': False, 'reserved1': 0}, {'elecValue': 21, 'electrodeType': 1, 'isOff': False, 'reserved1': 0}]}, 'isEnabled': 131, 'miscSettings': {'activeRechargeRatio': 0, 'cyclingEnable': False, 'unused': 0, 'unused2': 0}, 'pulseWidth': 85, 'pulseWidthInMicroseconds': 850, 'reserved': [85, 85, 85, 85, 85, 85, 85, 85], 'reserved2': [85, 85, 85, 85, 85, 85, 85, 85, 85, 85, 85, 85, 85, 85, 85, 85, 85, 85, 85, 85, 85, 85, 85, 85, 85, 85, 85, 0, 85, 85, 85, 85, 85, 85, 85, 85, 85, 85, 85, 85, 85, 85, 85, 85, 85, 85, 85, 85, 85, 85, 85, 85, 85, 85, 85, 0], 'reservedRateMult': 85, 'subvalid': False, 'valid': False}, {'amplitude': 85, 'amplitudeInMilliamps': 8.5, 'electrodes': {'electrodes': [{'elecValue': 21, 'electrodeType': 1, 'isOff': False, 'reserved1': 0}, {'elecValue': 21, 'electrodeType': 1, 'isOff': False, 'reserved1': 0}, {'elecValue': 21, 'electrodeType': 1, 'isOff': False, 'reserved1': 0}, {'elecValue': 21, 'electrodeType': 1, 'isOff': False, 'reserved1': 0}, {'elecValue': 21, 'electrodeType': 1, 'isOff': False, 'reserved1': 0}, {'elecValue': 21, 'electrodeType': 1, 'isOff': False, 'reserved1': 0}, {'elecValue': 21, 'electrodeType': 1, 'isOff': False, 'reserved1': 0}, {'elecValue': 21, 'electrodeType': 1, 'isOff': False, 'reserved1': 0}, {'elecValue': 21, 'electrodeType': 1, 'isOff': False, 'reserved1': 0}, {'elecValue': 21, 'electrodeType': 1, 'isOff': False, 'reserved1': 0}, {'elecValue': 21, 'electrodeType': 1, 'isOff': False, 'reserved1': 0}, {'elecValue': 21, 'electrodeType': 1, 'isOff': False, 'reserved1': 0}, {'elecValue': 21, 'electrodeType': 1, 'isOff': False, 'reserved1': 0}, {'elecValue': 21, 'electrodeType': 1, 'isOff': False, 'reserved1': 0}, {'elecValue': 21, 'electrodeType': 1, 'isOff': False, 'reserved1': 0}, {'elecValue': 21, 'electrodeType': 1, 'isOff': False, 'reserved1': 0}, {'elecValue': 21, 'electrodeType': 1, 'isOff': False, 'reserved1': 0}]}, 'isEnabled': 131, 'miscSettings': {'activeRechargeRatio': 0, 'cyclingEnable': False, 'unused': 0, 'unused2': 0}, 'pulseWidth': 85, 'pulseWidthInMicroseconds': 850, 'reserved': [85, 85, 85, 85, 85, 85, 85, 85], 'reserved2': [85, 85, 85, 85, 85, 85, 85, 85, 85, 85, 85, 85, 85, 85, 85, 85, 85, 85, 85, 85, 85, 85, 85, 85, 85, 85, 85, 0, 85, 85, 85, 85, 85, 85, 85, 85, 85, 85, 85, 85, 85, 85, 85, 85, 85, 85, 85, 85, 85, 85, 85, 85, 85, 85, 85, 0], 'reservedRateMult': 85, 'subvalid': False, 'valid': False}, {'amplitude': 85, 'amplitudeInMilliamps': 8.5, 'electrodes': {'electrodes': [{'elecValue': 21, 'electrodeType': 1, 'isOff': False, 'reserved1': 0}, {'elecValue': 21, 'electrodeType': 1, 'isOff': False, 'reserved1': 0}, {'elecValue': 21, 'electrodeType': 1, 'isOff': False, 'reserved1': 0}, {'elecValue': 21, 'electrodeType': 1, 'isOff': False, 'reserved1': 0}, {'elecValue': 21, 'electrodeType': 1, 'isOff': False, 'reserved1': 0}, {'elecValue': 21, 'electrodeType': 1, 'isOff': False, 'reserved1': 0}, {'elecValue': 21, 'electrodeType': 1, 'isOff': False, 'reserved1': 0}, {'elecValue': 21, 'electrodeType': 1, 'isOff': False, 'reserved1': 0}, {'elecValue': 21, 'electrodeType': 1, 'isOff': False, 'reserved1': 0}, {'elecValue': 21, 'electrodeType': 1, 'isOff': False, 'reserved1': 0}, {'elecValue': 21, 'electrodeType': 1, 'isOff': False, 'reserved1': 0}, {'elecValue': 21, 'electrodeType': 1, 'isOff': False, 'reserved1': 0}, {'elecValue': 21, 'electrodeType': 1, 'isOff': False, 'reserved1': 0}, {'elecValue': 21, 'electrodeType': 1, 'isOff': False, 'reserved1': 0}, {'elecValue': 21, 'electrodeType': 1, 'isOff': False, 'reserved1': 0}, {'elecValue': 21, 'electrodeType': 1, 'isOff': False, 'reserved1': 0}, {'elecValue': 21, 'electrodeType': 1, 'isOff': False, 'reserved1': 0}]}, 'isEnabled': 131, 'miscSettings': {'activeRechargeRatio': 0, 'cyclingEnable': False, 'unused': 0, 'unused2': 0}, 'pulseWidth': 85, 'pulseWidthInMicroseconds': 850, 'reserved': [85, 85, 85, 85, 85, 85, 85, 85], 'reserved2': [85, 85, 85, 85, 85, 85, 85, 85, 85, 85, 85, 85, 85, 85, 85, 85, 85, 85, 85, 85, 85, 85, 85, 85, 85, 85, 85, 0, 85, 85, 85, 85, 85, 85, 85, 85, 85, 85, 85, 85, 85, 85, 85, 85, 85, 85, 85, 85, 85, 85, 85, 85, 85, 85, 85, 0], 'reservedRateMult': 85, 'subvalid': False, 'valid': False}], 'pulseWidthLowerLimit': 6, 'pulseWidthLowerLimitInMicroseconds': 60, 'pulseWidthUpperLimit': 6, 'pulseWidthUpperLimitInMicroseconds': 60, 'rampRepeat': 7, 'rampTime': 50, 'rateInHz': 130.2, 'rateLowerLimitInHz': 2, 'ratePeriod': 768, 'ratePeriodLowerLimit': 400, 'ratePeriodUpperLimit': 50000, 'rateUpperLimitInHz': 250, 'reserved1': 0, 'reserved2': 0, 'reserved3': 0, 'valid': True}}\n"
     ]
    },
    {
     "name": "stderr",
     "output_type": "stream",
     "text": [
      "/var/folders/1d/gj64tt_x46x6d62lws668qnr0000gn/T/ipykernel_58251/391251084.py:42: DeprecationWarning: Bitwise inversion '~' on bool is deprecated. This returns the bitwise inversion of the underlying int object and is usually not what you expect from negating a bool. Use the 'not' operator for boolean negation or ~int(x) if you really want the bitwise inversion of the underlying int.\n",
      "  if ~dict['isOff']:\n"
     ]
    }
   ],
   "source": [
    "settings = process_device_settings(settings_data)"
   ]
  },
  {
   "cell_type": "code",
   "execution_count": 122,
   "metadata": {},
   "outputs": [],
   "source": [
    "cols = settings.columns[2:]\n",
    "settings_col = cs.by_name(*cols)\n",
    "settings.filter(~pl.all_horizontal(settings_col.is_null())).head()"
   ]
  },
  {
   "cell_type": "code",
   "execution_count": 129,
   "metadata": {},
   "outputs": [],
   "source": [
    "def process_device_settings(settings):\n",
    "    \"\"\"\n",
    "    Process the device settings json file and return a dictionary with the important keys\n",
    "    \"\"\"\n",
    "    dfs = []\n",
    "    for dict in settings:\n",
    "        if (len(dict.keys()) == 2) and ('RecordInfo' in list(dict.keys())) and ('TelemetryModuleInfo' in list(dict.keys())): continue # --> skip these entries, they have no useful information\n",
    "        if (len(dict.keys()) == 2) and ('RecordInfo' in list(dict.keys())) and ('BatteryStatus' in list(dict.keys())): continue # --> skip these entries, they have no useful information\n",
    "        if (len(dict.keys()) == 2) and ('RecordInfo' in list(dict.keys())) and ('SubjectInfo' in list(dict.keys())): continue # --> skip these entries, they have no useful information\n",
    "        entry = {}\n",
    "        for key, value in dict.items():\n",
    "            if key == 'RecordInfo':\n",
    "                entry['HostUnixTime'] = value['HostUnixTime']\n",
    "                entry['SessionId'] = value['SessionId']\n",
    "                \n",
    "            elif key == 'GeneralData':\n",
    "                entry['ActiveGroup'] = value['therapyStatusData']['activeGroup']\n",
    "                entry['TherapyStatus'] = value['therapyStatusData']['therapyStatus']\n",
    "                \n",
    "            elif key == 'SensingConfig':\n",
    "                for i, d in enumerate(value['timeDomainChannels']):\n",
    "                    entry[f'channel_{i}_sensing'] = {k: v for k, v in d.items() if k in [\"hpf\", \"lpf1\", \"lpf2\", \"minusInput\", \"plusInput\", \"sampleRate\"]}\n",
    "                    \n",
    "            elif key == 'DetectionConfig':\n",
    "                ld0 = value['Ld0']\n",
    "                ld0 = {k: [v] if isinstance(v, list) else v for k, v in ld0.items()}\n",
    "                entry['Ld0'] = ld0\n",
    "                \n",
    "                ld1 = value['Ld1']\n",
    "                ld1 = {k: [v] if isinstance(v, list) else v for k, v in ld1.items()}\n",
    "                entry['Ld1'] = ld1\n",
    "                \n",
    "            elif 'TherapyConfigGroup' in key:\n",
    "                if key == f'TherapyConfigGroup{entry.get(\"ActiveGroup\")}':\n",
    "                    entry['RateInHz'] = value['rateInHz']\n",
    "                    entry['rampTime'] = value['rampTime']\n",
    "                    for program in value['programs']:\n",
    "                        if program['isEnabled'] == 0 and program[\"valid\"]:\n",
    "                            entry['pulseWidthInMicroseconds'] = program['pulseWidthInMicroseconds']\n",
    "                            entry['AmplitudeInMilliamps'] = program['amplitudeInMilliamps']\n",
    "                            for i, dict in enumerate(program['electrodes']['electrodes']):\n",
    "                                if ~dict['isOff']:\n",
    "                                    entry['stim_electrode'] = i\n",
    "                            entry['active_recharge'] = program['miscSettings']['activeRechargeRatio']\n",
    "            \n",
    "            elif key == 'AdaptiveConfig':\n",
    "                entry['adaptiveMode'] = value['adaptiveMode']\n",
    "                entry['adaptiveStatus'] = value['adaptiveStatus']\n",
    "                entry['delta_fall'] = value['deltas'][0]['fall']\n",
    "                entry['delta_fall'] = value['deltas'][0]['fall']\n",
    "                for sub_key in value.keys():\n",
    "                    if 'state' in sub_key:\n",
    "                        sub_dict = {'prog0AmpInMilliamps': value[sub_key]['prog0AmpInMilliamps'], 'rateTargetInHz': value[sub_key]['rateTargetInHz'], 'isValid': value[sub_key]['isValid']}\n",
    "                        entry[f\"Adaptive_{sub_key}\"] = sub_dict\n",
    "            \n",
    "        if entry:\n",
    "            entry = {k: [v] for k, v in entry.items()}\n",
    "            dfs.append(pl.from_dict(entry))\n",
    "        \n",
    "    return pl.concat(dfs, how='diagonal')\n",
    "        "
   ]
  },
  {
   "cell_type": "code",
   "execution_count": 131,
   "metadata": {},
   "outputs": [],
   "source": [
    "event_file = '/Users/claysmyth/Desktop/Starr/RCS_Hypno_Data/RCS02/RCS02R/8_17_21/Session1629181419311/DeviceNPC700404H/EventLog.json'\n",
    "with open(event_file, 'r') as file:\n",
    "    event_log = json.load(file)"
   ]
  },
  {
   "cell_type": "code",
   "execution_count": 135,
   "metadata": {},
   "outputs": [],
   "source": [
    "event_df = parse_event_log(event_log)"
   ]
  },
  {
   "cell_type": "code",
   "execution_count": 138,
   "metadata": {},
   "outputs": [
    {
     "data": {
      "text/html": [
       "<div><style>\n",
       ".dataframe > thead > tr,\n",
       ".dataframe > tbody > tr {\n",
       "  text-align: right;\n",
       "  white-space: pre-wrap;\n",
       "}\n",
       "</style>\n",
       "<small>shape: (4, 4)</small><table border=\"1\" class=\"dataframe\"><thead><tr><th>SessionId</th><th>HostUnixTime</th><th>EventType</th><th>EvenSubType</th></tr><tr><td>str</td><td>i64</td><td>str</td><td>str</td></tr></thead><tbody><tr><td>&quot;1629181419311&quot;</td><td>1629181440821</td><td>&quot;Mirror Event L…</td><td>&quot;08_16_2021 11:…</td></tr><tr><td>&quot;1629181419311&quot;</td><td>1629181502917</td><td>&quot;Log Data Succe…</td><td>&quot;08_16_2021 11:…</td></tr><tr><td>&quot;1629181419311&quot;</td><td>1629181530925</td><td>&quot;Log Data Succe…</td><td>&quot;08_16_2021 11:…</td></tr><tr><td>&quot;1629181419311&quot;</td><td>1629181531284</td><td>&quot;Adaptive On&quot;</td><td>&quot;08_16_2021 11:…</td></tr></tbody></table></div>"
      ],
      "text/plain": [
       "shape: (4, 4)\n",
       "┌───────────────┬───────────────┬──────────────────────────┬────────────────────────┐\n",
       "│ SessionId     ┆ HostUnixTime  ┆ EventType                ┆ EvenSubType            │\n",
       "│ ---           ┆ ---           ┆ ---                      ┆ ---                    │\n",
       "│ str           ┆ i64           ┆ str                      ┆ str                    │\n",
       "╞═══════════════╪═══════════════╪══════════════════════════╪════════════════════════╡\n",
       "│ 1629181419311 ┆ 1629181440821 ┆ Mirror Event Log Success ┆ 08_16_2021 11:24:00 PM │\n",
       "│ 1629181419311 ┆ 1629181502917 ┆ Log Data Success         ┆ 08_16_2021 11:25:02 PM │\n",
       "│ 1629181419311 ┆ 1629181530925 ┆ Log Data Success         ┆ 08_16_2021 11:25:30 PM │\n",
       "│ 1629181419311 ┆ 1629181531284 ┆ Adaptive On              ┆ 08_16_2021 11:25:31 PM │\n",
       "└───────────────┴───────────────┴──────────────────────────┴────────────────────────┘"
      ]
     },
     "execution_count": 138,
     "metadata": {},
     "output_type": "execute_result"
    }
   ],
   "source": [
    "event_df.head()"
   ]
  },
  {
   "cell_type": "code",
   "execution_count": 134,
   "metadata": {},
   "outputs": [],
   "source": [
    "def parse_event_log(event_log):\n",
    "    \"\"\"\n",
    "    Parse the event log json file and return polars dataframe with relevant log info. NOTE: IGNORES BATTERY LOG INFO\n",
    "    \"\"\"\n",
    "    rows = {'SessionId': [], 'HostUnixTime': [], 'EventType': [], 'EvenSubType': []}\n",
    "    for dict in event_log:\n",
    "        event = dict['Event']\n",
    "        if ('LeadLocation' in event['EventType']) or ('Battery' in event['EventType']) or ('Application Version' in event['EventType']):\n",
    "            continue\n",
    "        else:\n",
    "            rows['SessionId'].append(dict['RecordInfo']['SessionId'])\n",
    "            rows['HostUnixTime'].append(dict['RecordInfo']['HostUnixTime'])\n",
    "            rows['EventType'].append(event['EventType'])\n",
    "            rows['EvenSubType'].append(event['EventSubType'])\n",
    "    \n",
    "    return pl.DataFrame(rows)"
   ]
  },
  {
   "cell_type": "code",
   "execution_count": 139,
   "metadata": {},
   "outputs": [],
   "source": [
    "adapt_file = '/Users/claysmyth/Desktop/Starr/RCS_Hypno_Data/RCS02/RCS02R/8_18_21/Session1629269941495/DeviceNPC700404H/AdaptiveLog.json'\n",
    "with open(adapt_file, 'r') as file:\n",
    "    adapt_log = json.load(file)"
   ]
  },
  {
   "cell_type": "code",
   "execution_count": 140,
   "metadata": {},
   "outputs": [],
   "source": [
    "adapt_df = parse_adaptive_log(adapt_log)"
   ]
  },
  {
   "cell_type": "code",
   "execution_count": 141,
   "metadata": {},
   "outputs": [
    {
     "data": {
      "text/html": [
       "<div><style>\n",
       ".dataframe > thead > tr,\n",
       ".dataframe > tbody > tr {\n",
       "  text-align: right;\n",
       "  white-space: pre-wrap;\n",
       "}\n",
       "</style>\n",
       "<small>shape: (5, 9)</small><table border=\"1\" class=\"dataframe\"><thead><tr><th>SessionId</th><th>HostUnixTime</th><th>PacketGenTime</th><th>PacketRxUnixTime</th><th>AdaptiveState</th><th>StimRateInHz</th><th>AmplitudeInMilliamps</th><th>Ld0DetectionStatues</th><th>Ld1DetectionStatues</th></tr><tr><td>str</td><td>i64</td><td>i64</td><td>i64</td><td>i64</td><td>f64</td><td>f64</td><td>i64</td><td>i64</td></tr></thead><tbody><tr><td>&quot;1629269941495&quot;</td><td>1629270050701</td><td>-62135568000000</td><td>1629270050701</td><td>0</td><td>130.2</td><td>2.7</td><td>0</td><td>0</td></tr><tr><td>&quot;1629269941495&quot;</td><td>1629270051204</td><td>1629270051150</td><td>1629270051204</td><td>0</td><td>130.2</td><td>2.7</td><td>0</td><td>0</td></tr><tr><td>&quot;1629269941495&quot;</td><td>1629270051699</td><td>1629270051647</td><td>1629270051699</td><td>0</td><td>130.2</td><td>2.7</td><td>0</td><td>0</td></tr><tr><td>&quot;1629269941495&quot;</td><td>1629270052198</td><td>1629270052153</td><td>1629270052198</td><td>0</td><td>130.2</td><td>2.7</td><td>0</td><td>0</td></tr><tr><td>&quot;1629269941495&quot;</td><td>1629270052693</td><td>1629270052652</td><td>1629270052693</td><td>0</td><td>130.2</td><td>2.7</td><td>0</td><td>0</td></tr></tbody></table></div>"
      ],
      "text/plain": [
       "shape: (5, 9)\n",
       "┌───────────┬───────────┬───────────┬───────────┬───┬───────────┬───────────┬───────────┬──────────┐\n",
       "│ SessionId ┆ HostUnixT ┆ PacketGen ┆ PacketRxU ┆ … ┆ StimRateI ┆ Amplitude ┆ Ld0Detect ┆ Ld1Detec │\n",
       "│ ---       ┆ ime       ┆ Time      ┆ nixTime   ┆   ┆ nHz       ┆ InMilliam ┆ ionStatue ┆ tionStat │\n",
       "│ str       ┆ ---       ┆ ---       ┆ ---       ┆   ┆ ---       ┆ ps        ┆ s         ┆ ues      │\n",
       "│           ┆ i64       ┆ i64       ┆ i64       ┆   ┆ f64       ┆ ---       ┆ ---       ┆ ---      │\n",
       "│           ┆           ┆           ┆           ┆   ┆           ┆ f64       ┆ i64       ┆ i64      │\n",
       "╞═══════════╪═══════════╪═══════════╪═══════════╪═══╪═══════════╪═══════════╪═══════════╪══════════╡\n",
       "│ 162926994 ┆ 162927005 ┆ -62135568 ┆ 162927005 ┆ … ┆ 130.2     ┆ 2.7       ┆ 0         ┆ 0        │\n",
       "│ 1495      ┆ 0701      ┆ 000000    ┆ 0701      ┆   ┆           ┆           ┆           ┆          │\n",
       "│ 162926994 ┆ 162927005 ┆ 162927005 ┆ 162927005 ┆ … ┆ 130.2     ┆ 2.7       ┆ 0         ┆ 0        │\n",
       "│ 1495      ┆ 1204      ┆ 1150      ┆ 1204      ┆   ┆           ┆           ┆           ┆          │\n",
       "│ 162926994 ┆ 162927005 ┆ 162927005 ┆ 162927005 ┆ … ┆ 130.2     ┆ 2.7       ┆ 0         ┆ 0        │\n",
       "│ 1495      ┆ 1699      ┆ 1647      ┆ 1699      ┆   ┆           ┆           ┆           ┆          │\n",
       "│ 162926994 ┆ 162927005 ┆ 162927005 ┆ 162927005 ┆ … ┆ 130.2     ┆ 2.7       ┆ 0         ┆ 0        │\n",
       "│ 1495      ┆ 2198      ┆ 2153      ┆ 2198      ┆   ┆           ┆           ┆           ┆          │\n",
       "│ 162926994 ┆ 162927005 ┆ 162927005 ┆ 162927005 ┆ … ┆ 130.2     ┆ 2.7       ┆ 0         ┆ 0        │\n",
       "│ 1495      ┆ 2693      ┆ 2652      ┆ 2693      ┆   ┆           ┆           ┆           ┆          │\n",
       "└───────────┴───────────┴───────────┴───────────┴───┴───────────┴───────────┴───────────┴──────────┘"
      ]
     },
     "execution_count": 141,
     "metadata": {},
     "output_type": "execute_result"
    }
   ],
   "source": [
    "adapt_df.head()"
   ]
  },
  {
   "cell_type": "code",
   "execution_count": 18,
   "metadata": {},
   "outputs": [],
   "source": [
    "def parse_adaptive_log(adaptive_log):\n",
    "    \"\"\"\n",
    "    Parse the adaptive log json file and return polars dataframe with relevant log info\n",
    "    \"\"\"\n",
    "    rows = {'SessionId': [], 'HostUnixTime': [], 'PacketGenTime': [], 'PacketRxUnixTime': [], 'AdaptiveState': [], 'StimRateInHz': [], 'AmplitudeInMilliamps': [], 'Ld0DetectionStatues': [], 'Ld1DetectionStatues': []}\n",
    "    for dict in adaptive_log:\n",
    "        adapt = dict['AdaptiveUpdate']\n",
    "        rows['SessionId'].append(dict['RecordInfo']['SessionId'])\n",
    "        rows['HostUnixTime'].append(dict['RecordInfo']['HostUnixTime'])\n",
    "        rows['PacketGenTime'].append(adapt['PacketGenTime'])\n",
    "        rows['PacketRxUnixTime'].append(adapt['PacketRxUnixTime'])\n",
    "        rows['AdaptiveState'].append(adapt['CurrentAdaptiveState'])\n",
    "        rows['StimRateInHz'].append(adapt['StimRateInHz'])\n",
    "        rows['AmplitudeInMilliamps'].append(adapt['CurrentProgramAmplitudesInMilliamps'][0])\n",
    "        rows['Ld0DetectionStatues'].append(adapt['Ld0DetectionStatus'])\n",
    "        rows['Ld1DetectionStatues'].append(adapt['Ld1DetectionStatus'])\n",
    "    \n",
    "    return pl.DataFrame(rows)"
   ]
  },
  {
   "cell_type": "code",
   "execution_count": null,
   "metadata": {},
   "outputs": [],
   "source": []
  }
 ],
 "metadata": {
  "kernelspec": {
   "display_name": "polars-sp",
   "language": "python",
   "name": "python3"
  },
  "language_info": {
   "codemirror_mode": {
    "name": "ipython",
    "version": 3
   },
   "file_extension": ".py",
   "mimetype": "text/x-python",
   "name": "python",
   "nbconvert_exporter": "python",
   "pygments_lexer": "ipython3",
   "version": "3.12.2"
  }
 },
 "nbformat": 4,
 "nbformat_minor": 2
}
